{
 "cells": [
  {
   "cell_type": "markdown",
   "metadata": {},
   "source": [
    "# MBTI - Myers Briggs Type Indicator"
   ]
  },
  {
   "cell_type": "markdown",
   "metadata": {},
   "source": [
    "## Libraries"
   ]
  },
  {
   "cell_type": "code",
   "execution_count": 1,
   "metadata": {},
   "outputs": [],
   "source": [
    "import pandas as pd"
   ]
  },
  {
   "cell_type": "markdown",
   "metadata": {},
   "source": [
    "## Data import"
   ]
  },
  {
   "cell_type": "code",
   "execution_count": 2,
   "metadata": {},
   "outputs": [
    {
     "data": {
      "text/html": [
       "<div>\n",
       "<style scoped>\n",
       "    .dataframe tbody tr th:only-of-type {\n",
       "        vertical-align: middle;\n",
       "    }\n",
       "\n",
       "    .dataframe tbody tr th {\n",
       "        vertical-align: top;\n",
       "    }\n",
       "\n",
       "    .dataframe thead th {\n",
       "        text-align: right;\n",
       "    }\n",
       "</style>\n",
       "<table border=\"1\" class=\"dataframe\">\n",
       "  <thead>\n",
       "    <tr style=\"text-align: right;\">\n",
       "      <th></th>\n",
       "      <th>type</th>\n",
       "      <th>posts</th>\n",
       "    </tr>\n",
       "  </thead>\n",
       "  <tbody>\n",
       "    <tr>\n",
       "      <th>0</th>\n",
       "      <td>INFJ</td>\n",
       "      <td>'http://www.youtube.com/watch?v=qsXHcwe3krw|||...</td>\n",
       "    </tr>\n",
       "    <tr>\n",
       "      <th>1</th>\n",
       "      <td>ENTP</td>\n",
       "      <td>'I'm finding the lack of me in these posts ver...</td>\n",
       "    </tr>\n",
       "    <tr>\n",
       "      <th>2</th>\n",
       "      <td>INTP</td>\n",
       "      <td>'Good one  _____   https://www.youtube.com/wat...</td>\n",
       "    </tr>\n",
       "    <tr>\n",
       "      <th>3</th>\n",
       "      <td>INTJ</td>\n",
       "      <td>'Dear INTP,   I enjoyed our conversation the o...</td>\n",
       "    </tr>\n",
       "    <tr>\n",
       "      <th>4</th>\n",
       "      <td>ENTJ</td>\n",
       "      <td>'You're fired.|||That's another silly misconce...</td>\n",
       "    </tr>\n",
       "  </tbody>\n",
       "</table>\n",
       "</div>"
      ],
      "text/plain": [
       "   type                                              posts\n",
       "0  INFJ  'http://www.youtube.com/watch?v=qsXHcwe3krw|||...\n",
       "1  ENTP  'I'm finding the lack of me in these posts ver...\n",
       "2  INTP  'Good one  _____   https://www.youtube.com/wat...\n",
       "3  INTJ  'Dear INTP,   I enjoyed our conversation the o...\n",
       "4  ENTJ  'You're fired.|||That's another silly misconce..."
      ]
     },
     "execution_count": 2,
     "metadata": {},
     "output_type": "execute_result"
    }
   ],
   "source": [
    "df = pd.read_csv('./mbti_data.csv')\n",
    "df.head()"
   ]
  },
  {
   "cell_type": "code",
   "execution_count": 6,
   "metadata": {},
   "outputs": [
    {
     "name": "stdout",
     "output_type": "stream",
     "text": [
      "<class 'pandas.core.frame.DataFrame'>\n",
      "RangeIndex: 8675 entries, 0 to 8674\n",
      "Data columns (total 2 columns):\n",
      " #   Column  Non-Null Count  Dtype \n",
      "---  ------  --------------  ----- \n",
      " 0   type    8675 non-null   object\n",
      " 1   posts   8675 non-null   object\n",
      "dtypes: object(2)\n",
      "memory usage: 135.7+ KB\n"
     ]
    }
   ],
   "source": [
    "df.info()"
   ]
  },
  {
   "cell_type": "markdown",
   "metadata": {},
   "source": [
    "## Data preprocessing"
   ]
  },
  {
   "cell_type": "markdown",
   "metadata": {},
   "source": [
    "Let's analyze one raw of the dataset."
   ]
  },
  {
   "cell_type": "code",
   "execution_count": 11,
   "metadata": {},
   "outputs": [
    {
     "data": {
      "text/plain": [
       "type                                                  INFJ\n",
       "posts    'One time my parents were fighting over my dad...\n",
       "Name: 10, dtype: object"
      ]
     },
     "execution_count": 11,
     "metadata": {},
     "output_type": "execute_result"
    }
   ],
   "source": [
    "df.loc[10,:]"
   ]
  },
  {
   "cell_type": "code",
   "execution_count": 12,
   "metadata": {},
   "outputs": [
    {
     "data": {
      "text/plain": [
       "\"'One time my parents were fighting over my dad's affair and my dad pushed my mom. The fall broke her finger.  She's pointed a gun at him and made him get on his knees and beg for his life. She's...|||I'm gonna talk about what a piece of shit my dad is now.  He's an alcoholic and he has some kind of serious mental problem when it comes to complying with the IRS. (In his words, Laws don't apply...|||OMG...at the women's center I lived at, run by a Catholic charity, the fat bully program manager took it upon herself to change policy so that tenants were FORCED to attend the Christmas party. If...|||I don't work, but I have a calling I am 100% committed to 24/7 with no vacation or off days EVER. I'm a Kundalini mystic.  Oh, I don't get paid, either!  It's one of those destined things...|||My art teacher in high school had a stack of art school catalogs. When I saw the one for the school I ended up going to, I immediately knew that was the one. Without any research. It was like when...|||INFJ  Communication Design  Nope, too much execution, I'm a mystic now|||I got a degree from one of the best schools in the world for that field, but actually having a career in it was unsustainable because it engaged my inferior function directly.  So in my case, even...|||Absolutely|||And I don't know who TF you think in this day and age isn't familiar with employment. ??????? What planet are you living on?! And how did you ever pass kindergarten? Somebody actually employs you?...|||No, it's an issue of taking responsibility for your own sexual response. It's called self-discipline. It starts in the mind. Internalize your sexuality, then you're not at the mercy of how other...|||Oh I think I should also say, if I didn't imply or say it above, that this won't make sense if you've always been healthy -- if you were allowed to develop naturally.  This is for people who were...|||Do something out of character (inferior function immersion) -- this will put you in danger, pumping exciting danger/stress chemicals into your body. Going against the grain. It's the psychological...|||It kind of sounds believable[/QUOTE]  You guys haven't been through stuff like this? Man you've had it easy  You know, last year I spent months hauling my tales of woe around Craigslist rants and...|||HOW TO KNOW IF AN ESTP LIKES YOU  1. They put their hand down your pants|||Don't ESTPs like getting beaten with chains, too? Since you guys are immune to physicality and need as much stimulation as possible to even register being alive...  Getting beaten with chains and...|||ENFPs don't get God-oriented in crisis though|||At first I thought he was an INFJ who'd grown up in his inferior function and was living a false ESTP identity, because my life story parallels his so closely, and that's what happened to me. What...|||Sorry INFJ, fellow INFJ here, ESTPs don't care about anything but your flesh. Have you shared your body with your ESTP? They might miss that, I guess, but it's a long shot...  Physical life here on...|||Not have the ballz? I told my ESTP gf she was a parasite when I dumped her...that was AFTER she'd threatened to punch me in the mouth...|||Oh another thing! Have you ever had sex with a Te person? Te vs Fe sex. Here's how it goes down:  Te person will actually SAY TO YOU, I can't do this if you're gonna make those faces, and will...|||The only reason Te people call everything unstable is because they're TOO SENSITIVE!  They're the unstable ones!!! Can't handle a little Fe brow scrunch! Wow, grow up  That case manager also...|||You've probably been treated like shit your whole life by Te people.  I've been treated like shit just for my Fe facial expressions, and I'm a very cold, controlled person. (Capricorn moon square...|||Eternity > no time > Wen-Nefer|||You know who got defragmented? Osiris   Osiris > underworld > Pluto > shamanism, soul retrieval|||What does the exchange look like where you become more physical and less spiritual?  Or is it always less? Every time we meet I'm less and you're less? Where does that lead?       Yikes....|||I had an ISFJ mother who thought Ni stuff was scary, of the devil, or just insane, so I abandoned Ni at age 5 and learned to hate myself in an effort to stay in her good graces and avoid her wrath. ...|||Although, during Pluto transits, the whole point is to get eaten   But I'm talking about my relationship with Se on a daily basis, when it's not crisis time|||My thing that I'm into is using my inferior as a mirror...like gazing into a scrying mirror   Otherwise I just get eaten by it  IMO that's a proper Ni-Se dynamic|||Oh dear. Trees have stronger and weaker roots, but they never have just one root. Not the healthy ones anyway.  May you find balance.  *hug*[/QUOTE]   My problem has been over identification...|||The dirty people also remind me of people who don't know who they are, they are disempowered, they have no sense of their own vitality, so they're zombies. Moths attracted to a source of light (smoke...|||I've made a lot of sacrifices for my Ni|||I think the trade I'm talking about is an Se-dom meets Ni-dom thing. That sort of interaction could generally be characterized as mutual relief of burden. Or at least that's where it's easiest to...|||Do you identify with the woman who takes in the smoke?  https://www.youtube.com/watch?v=LUc_jXBD9DU  What I've noticed is that there's a trade going on between me and people I encounter (whether...|||You must decode the symbol or you will be impoverished|||I think the INFJ who tries to live a normal life is like a criminal on the run. Eventually you have enough inferior Se experiences that you're now a criminal who is surrounded by cops. You have...|||Everything outside of me is a trap.  Everything in the physical world is a trap  If I get a job, something bad will happen   If I take a walk, something bad will happen   I don't like the...|||Ok so I have an alien/ghost living inside me  It left when I was 5. From that age until 30, I had only negative changes due to constant trauma, cuz I was stuck in my inferior function. I literally...|||wow. you obviously made up your mind what advice you wanted and didn't get it so you're throwing a hissy fit. you did that in your cartoon thread too. it's gross that you're even comparing your...|||I don't even know what your situation is but I'm appalled by the invalidating responses. People who preach about gratitude have either had lives that are far too easy OR they live in denial that...|||INFJ  Daria  I think it's more of a Cap moon thing than a type thing|||The person wants to have sex with me (which is horrific, because I hate physical sex)|||I don't have a FB profile   It's definitely bad for you if you don't like your family or people you went to high school with. I fall into both of those categories.  I prefer strangers. I don't...|||Worst  Dillard's sales associate   My first month there, I reported so much theft 10 people were fired.  Store manager thanked me, ops manager told me to stop reporting so she wouldn't lose her...|||Well, I can tell you what happens when it all goes wrong...  In college, I was at a party in a dorm room. In my dorm building. There was a guy I liked, I cornered him in the bathroom and kissed...|||Ha! Not fair? My younger brother has the entire top floor of the house to himself. That's 2 bedrooms, a living area, and a full bath. All to himself. For free! Even though he makes $40,000 a year. ...|||I already talked about this elsewhere but I like saying it as much as possible because it makes people lose their minds  I only shower once a month, when my period is over. I don't shave anywhere....|||Stay on your turf then. Leave MBTI. If you're an SJ you have nothing to complain about in life because society is structured to make sure you have it easy. You don't need a tool like personality...|||Somebody mentioned not blaming personality type for lack of success or something...  For me it has helped to know the limits of my type so I can stop wanting delusional things like being a pop star...|||I used to get really annoyed because I was surrounded by people who turned everything I said into a meme. You know, like, you have a genuine complaint, and the person invalidates you by not saying...|||I think the only sustainable solution for an INFJ is to value the spirit world over the physical. Invisible support.'\""
      ]
     },
     "execution_count": 12,
     "metadata": {},
     "output_type": "execute_result"
    }
   ],
   "source": [
    "df.loc[10, 'posts']"
   ]
  },
  {
   "cell_type": "markdown",
   "metadata": {},
   "source": [
    "We can see that each post is separated by \"|||\".\n",
    "<br>Let's transform each string by an array of strings."
   ]
  },
  {
   "cell_type": "code",
   "execution_count": 19,
   "metadata": {},
   "outputs": [
    {
     "data": {
      "text/plain": [
       "[\"'One time my parents were fighting over my dad's affair and my dad pushed my mom. The fall broke her finger.  She's pointed a gun at him and made him get on his knees and beg for his life. She's...\",\n",
       " \"I'm gonna talk about what a piece of shit my dad is now.  He's an alcoholic and he has some kind of serious mental problem when it comes to complying with the IRS. (In his words, Laws don't apply...\",\n",
       " \"OMG...at the women's center I lived at, run by a Catholic charity, the fat bully program manager took it upon herself to change policy so that tenants were FORCED to attend the Christmas party. If...\",\n",
       " \"I don't work, but I have a calling I am 100% committed to 24/7 with no vacation or off days EVER. I'm a Kundalini mystic.  Oh, I don't get paid, either!  It's one of those destined things...\",\n",
       " 'My art teacher in high school had a stack of art school catalogs. When I saw the one for the school I ended up going to, I immediately knew that was the one. Without any research. It was like when...',\n",
       " \"INFJ  Communication Design  Nope, too much execution, I'm a mystic now\",\n",
       " 'I got a degree from one of the best schools in the world for that field, but actually having a career in it was unsustainable because it engaged my inferior function directly.  So in my case, even...',\n",
       " 'Absolutely',\n",
       " \"And I don't know who TF you think in this day and age isn't familiar with employment. ??????? What planet are you living on?! And how did you ever pass kindergarten? Somebody actually employs you?...\",\n",
       " \"No, it's an issue of taking responsibility for your own sexual response. It's called self-discipline. It starts in the mind. Internalize your sexuality, then you're not at the mercy of how other...\",\n",
       " \"Oh I think I should also say, if I didn't imply or say it above, that this won't make sense if you've always been healthy -- if you were allowed to develop naturally.  This is for people who were...\",\n",
       " \"Do something out of character (inferior function immersion) -- this will put you in danger, pumping exciting danger/stress chemicals into your body. Going against the grain. It's the psychological...\",\n",
       " \"It kind of sounds believable[/QUOTE]  You guys haven't been through stuff like this? Man you've had it easy  You know, last year I spent months hauling my tales of woe around Craigslist rants and...\",\n",
       " 'HOW TO KNOW IF AN ESTP LIKES YOU  1. They put their hand down your pants',\n",
       " \"Don't ESTPs like getting beaten with chains, too? Since you guys are immune to physicality and need as much stimulation as possible to even register being alive...  Getting beaten with chains and...\",\n",
       " \"ENFPs don't get God-oriented in crisis though\",\n",
       " \"At first I thought he was an INFJ who'd grown up in his inferior function and was living a false ESTP identity, because my life story parallels his so closely, and that's what happened to me. What...\",\n",
       " \"Sorry INFJ, fellow INFJ here, ESTPs don't care about anything but your flesh. Have you shared your body with your ESTP? They might miss that, I guess, but it's a long shot...  Physical life here on...\",\n",
       " \"Not have the ballz? I told my ESTP gf she was a parasite when I dumped her...that was AFTER she'd threatened to punch me in the mouth...\",\n",
       " \"Oh another thing! Have you ever had sex with a Te person? Te vs Fe sex. Here's how it goes down:  Te person will actually SAY TO YOU, I can't do this if you're gonna make those faces, and will...\",\n",
       " \"The only reason Te people call everything unstable is because they're TOO SENSITIVE!  They're the unstable ones!!! Can't handle a little Fe brow scrunch! Wow, grow up  That case manager also...\",\n",
       " \"You've probably been treated like shit your whole life by Te people.  I've been treated like shit just for my Fe facial expressions, and I'm a very cold, controlled person. (Capricorn moon square...\",\n",
       " 'Eternity > no time > Wen-Nefer',\n",
       " 'You know who got defragmented? Osiris   Osiris > underworld > Pluto > shamanism, soul retrieval',\n",
       " \"What does the exchange look like where you become more physical and less spiritual?  Or is it always less? Every time we meet I'm less and you're less? Where does that lead?       Yikes....\",\n",
       " 'I had an ISFJ mother who thought Ni stuff was scary, of the devil, or just insane, so I abandoned Ni at age 5 and learned to hate myself in an effort to stay in her good graces and avoid her wrath. ...',\n",
       " \"Although, during Pluto transits, the whole point is to get eaten   But I'm talking about my relationship with Se on a daily basis, when it's not crisis time\",\n",
       " \"My thing that I'm into is using my inferior as a mirror...like gazing into a scrying mirror   Otherwise I just get eaten by it  IMO that's a proper Ni-Se dynamic\",\n",
       " 'Oh dear. Trees have stronger and weaker roots, but they never have just one root. Not the healthy ones anyway.  May you find balance.  *hug*[/QUOTE]   My problem has been over identification...',\n",
       " \"The dirty people also remind me of people who don't know who they are, they are disempowered, they have no sense of their own vitality, so they're zombies. Moths attracted to a source of light (smoke...\",\n",
       " \"I've made a lot of sacrifices for my Ni\",\n",
       " \"I think the trade I'm talking about is an Se-dom meets Ni-dom thing. That sort of interaction could generally be characterized as mutual relief of burden. Or at least that's where it's easiest to...\",\n",
       " \"Do you identify with the woman who takes in the smoke?  https://www.youtube.com/watch?v=LUc_jXBD9DU  What I've noticed is that there's a trade going on between me and people I encounter (whether...\",\n",
       " 'You must decode the symbol or you will be impoverished',\n",
       " \"I think the INFJ who tries to live a normal life is like a criminal on the run. Eventually you have enough inferior Se experiences that you're now a criminal who is surrounded by cops. You have...\",\n",
       " \"Everything outside of me is a trap.  Everything in the physical world is a trap  If I get a job, something bad will happen   If I take a walk, something bad will happen   I don't like the...\",\n",
       " 'Ok so I have an alien/ghost living inside me  It left when I was 5. From that age until 30, I had only negative changes due to constant trauma, cuz I was stuck in my inferior function. I literally...',\n",
       " \"wow. you obviously made up your mind what advice you wanted and didn't get it so you're throwing a hissy fit. you did that in your cartoon thread too. it's gross that you're even comparing your...\",\n",
       " \"I don't even know what your situation is but I'm appalled by the invalidating responses. People who preach about gratitude have either had lives that are far too easy OR they live in denial that...\",\n",
       " \"INFJ  Daria  I think it's more of a Cap moon thing than a type thing\",\n",
       " 'The person wants to have sex with me (which is horrific, because I hate physical sex)',\n",
       " \"I don't have a FB profile   It's definitely bad for you if you don't like your family or people you went to high school with. I fall into both of those categories.  I prefer strangers. I don't...\",\n",
       " \"Worst  Dillard's sales associate   My first month there, I reported so much theft 10 people were fired.  Store manager thanked me, ops manager told me to stop reporting so she wouldn't lose her...\",\n",
       " 'Well, I can tell you what happens when it all goes wrong...  In college, I was at a party in a dorm room. In my dorm building. There was a guy I liked, I cornered him in the bathroom and kissed...',\n",
       " \"Ha! Not fair? My younger brother has the entire top floor of the house to himself. That's 2 bedrooms, a living area, and a full bath. All to himself. For free! Even though he makes $40,000 a year. ...\",\n",
       " \"I already talked about this elsewhere but I like saying it as much as possible because it makes people lose their minds  I only shower once a month, when my period is over. I don't shave anywhere....\",\n",
       " \"Stay on your turf then. Leave MBTI. If you're an SJ you have nothing to complain about in life because society is structured to make sure you have it easy. You don't need a tool like personality...\",\n",
       " 'Somebody mentioned not blaming personality type for lack of success or something...  For me it has helped to know the limits of my type so I can stop wanting delusional things like being a pop star...',\n",
       " 'I used to get really annoyed because I was surrounded by people who turned everything I said into a meme. You know, like, you have a genuine complaint, and the person invalidates you by not saying...',\n",
       " \"I think the only sustainable solution for an INFJ is to value the spirit world over the physical. Invisible support.'\"]"
      ]
     },
     "execution_count": 19,
     "metadata": {},
     "output_type": "execute_result"
    }
   ],
   "source": [
    "tmp = df.loc[10, 'posts']\n",
    "tmp_arr = tmp.split('|||')\n",
    "tmp_arr"
   ]
  },
  {
   "cell_type": "markdown",
   "metadata": {},
   "source": [
    "Better for the future. Let's apply this to all the dataset."
   ]
  },
  {
   "cell_type": "code",
   "execution_count": 23,
   "metadata": {},
   "outputs": [],
   "source": [
    "df['posts'] = df['posts'].apply(lambda row : row.split('|||'))"
   ]
  },
  {
   "cell_type": "code",
   "execution_count": 30,
   "metadata": {},
   "outputs": [
    {
     "name": "stdout",
     "output_type": "stream",
     "text": [
      "<class 'pandas.core.frame.DataFrame'>\n",
      "RangeIndex: 8675 entries, 0 to 8674\n",
      "Data columns (total 2 columns):\n",
      " #   Column  Non-Null Count  Dtype \n",
      "---  ------  --------------  ----- \n",
      " 0   type    8675 non-null   object\n",
      " 1   posts   8675 non-null   object\n",
      "dtypes: object(2)\n",
      "memory usage: 135.7+ KB\n"
     ]
    }
   ],
   "source": [
    "df.info()"
   ]
  },
  {
   "cell_type": "markdown",
   "metadata": {},
   "source": [
    "## Data exploration"
   ]
  },
  {
   "cell_type": "markdown",
   "metadata": {},
   "source": [
    "Let's see the distribution of the column 'type'."
   ]
  },
  {
   "cell_type": "code",
   "execution_count": 35,
   "metadata": {},
   "outputs": [],
   "source": [
    "type_counts = df['type'].value_counts()"
   ]
  },
  {
   "cell_type": "code",
   "execution_count": null,
   "metadata": {},
   "outputs": [],
   "source": []
  },
  {
   "cell_type": "code",
   "execution_count": null,
   "metadata": {},
   "outputs": [],
   "source": []
  }
 ],
 "metadata": {
  "kernelspec": {
   "display_name": "Python 3",
   "language": "python",
   "name": "python3"
  },
  "language_info": {
   "codemirror_mode": {
    "name": "ipython",
    "version": 3
   },
   "file_extension": ".py",
   "mimetype": "text/x-python",
   "name": "python",
   "nbconvert_exporter": "python",
   "pygments_lexer": "ipython3",
   "version": "3.9.0"
  }
 },
 "nbformat": 4,
 "nbformat_minor": 4
}
