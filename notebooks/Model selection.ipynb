{
 "cells": [
  {
   "cell_type": "markdown",
   "metadata": {},
   "source": [
    "# Model selection"
   ]
  },
  {
   "cell_type": "markdown",
   "metadata": {},
   "source": [
    "In this notebook, we will benchmark different configurations (vectorization and classification) to find the best one to our use case."
   ]
  },
  {
   "cell_type": "markdown",
   "metadata": {},
   "source": [
    "## Libraries"
   ]
  },
  {
   "cell_type": "code",
   "execution_count": 36,
   "metadata": {},
   "outputs": [],
   "source": [
    "import pandas as pd\n",
    "import nltk\n",
    "from nltk.corpus import stopwords\n",
    "from nltk.stem import PorterStemmer\n",
    "import re\n",
    "from sklearn.feature_extraction.text import CountVectorizer\n",
    "from sklearn.feature_extraction.text import TfidfVectorizer\n",
    "from sklearn.linear_model import LogisticRegression\n",
    "from sklearn.metrics import classification_report\n",
    "from sklearn.model_selection import train_test_split\n",
    "from sklearn.naive_bayes import MultinomialNB\n",
    "from sklearn.svm import LinearSVC"
   ]
  },
  {
   "cell_type": "markdown",
   "metadata": {},
   "source": [
    "## Data import"
   ]
  },
  {
   "cell_type": "code",
   "execution_count": 3,
   "metadata": {},
   "outputs": [
    {
     "data": {
      "text/html": [
       "<div>\n",
       "<style scoped>\n",
       "    .dataframe tbody tr th:only-of-type {\n",
       "        vertical-align: middle;\n",
       "    }\n",
       "\n",
       "    .dataframe tbody tr th {\n",
       "        vertical-align: top;\n",
       "    }\n",
       "\n",
       "    .dataframe thead th {\n",
       "        text-align: right;\n",
       "    }\n",
       "</style>\n",
       "<table border=\"1\" class=\"dataframe\">\n",
       "  <thead>\n",
       "    <tr style=\"text-align: right;\">\n",
       "      <th></th>\n",
       "      <th>type</th>\n",
       "      <th>posts_preproc_filtered</th>\n",
       "    </tr>\n",
       "  </thead>\n",
       "  <tbody>\n",
       "    <tr>\n",
       "      <th>0</th>\n",
       "      <td>INFJ</td>\n",
       "      <td>['http', 'youtub', 'watch', 'v', 'qsxhcwe3krw'...</td>\n",
       "    </tr>\n",
       "    <tr>\n",
       "      <th>1</th>\n",
       "      <td>ENTP</td>\n",
       "      <td>['find', 'lack', 'post', 'alarm', 'sex', 'bore...</td>\n",
       "    </tr>\n",
       "    <tr>\n",
       "      <th>2</th>\n",
       "      <td>INTP</td>\n",
       "      <td>['http', 'youtub', 'watch', 'v', 'fhigbolffgw'...</td>\n",
       "    </tr>\n",
       "    <tr>\n",
       "      <th>3</th>\n",
       "      <td>INTJ</td>\n",
       "      <td>['dear', 'intp', 'enjoy', 'convers', 'day', 'e...</td>\n",
       "    </tr>\n",
       "    <tr>\n",
       "      <th>4</th>\n",
       "      <td>ENTJ</td>\n",
       "      <td>['fire', 'anoth', 'silli', 'misconcept', 'appr...</td>\n",
       "    </tr>\n",
       "  </tbody>\n",
       "</table>\n",
       "</div>"
      ],
      "text/plain": [
       "   type                             posts_preproc_filtered\n",
       "0  INFJ  ['http', 'youtub', 'watch', 'v', 'qsxhcwe3krw'...\n",
       "1  ENTP  ['find', 'lack', 'post', 'alarm', 'sex', 'bore...\n",
       "2  INTP  ['http', 'youtub', 'watch', 'v', 'fhigbolffgw'...\n",
       "3  INTJ  ['dear', 'intp', 'enjoy', 'convers', 'day', 'e...\n",
       "4  ENTJ  ['fire', 'anoth', 'silli', 'misconcept', 'appr..."
      ]
     },
     "execution_count": 3,
     "metadata": {},
     "output_type": "execute_result"
    }
   ],
   "source": [
    "df = pd.read_csv('../mbti_data_preproc.csv')\n",
    "df.head()"
   ]
  },
  {
   "cell_type": "markdown",
   "metadata": {},
   "source": [
    "## Vectorization"
   ]
  },
  {
   "cell_type": "markdown",
   "metadata": {},
   "source": [
    "We benchmark 2 methods:\n",
    "- CountVectorizer\n",
    "- TfidfVectorizer"
   ]
  },
  {
   "cell_type": "code",
   "execution_count": 29,
   "metadata": {},
   "outputs": [],
   "source": [
    "corpus = df['posts_preproc_filtered']\n",
    "y = df['type']\n",
    "labels = y.unique()\n",
    "\n",
    "c_vectorizer = CountVectorizer()\n",
    "ti_vectorizer = TfidfVectorizer()"
   ]
  },
  {
   "cell_type": "code",
   "execution_count": 30,
   "metadata": {},
   "outputs": [],
   "source": [
    "c_X = c_vectorizer.fit_transform(corpus)\n",
    "ti_X = ti_vectorizer.fit_transform(corpus)"
   ]
  },
  {
   "cell_type": "code",
   "execution_count": 31,
   "metadata": {},
   "outputs": [],
   "source": [
    "c_X_train, c_X_test, c_y_train, c_y_test = train_test_split(c_X, y, test_size=0.33, random_state=14)\n",
    "ti_X_train, ti_X_test, ti_y_train, ti_y_test = train_test_split(ti_X, y, test_size=0.33, random_state=14)"
   ]
  },
  {
   "cell_type": "markdown",
   "metadata": {},
   "source": [
    "## Prediction"
   ]
  },
  {
   "cell_type": "markdown",
   "metadata": {},
   "source": [
    "**Configuration 1:** CountVectorizer + LinearSVC"
   ]
  },
  {
   "cell_type": "code",
   "execution_count": 32,
   "metadata": {},
   "outputs": [
    {
     "name": "stdout",
     "output_type": "stream",
     "text": [
      "              precision    recall  f1-score   support\n",
      "\n",
      "        INFJ       0.43      0.18      0.26        66\n",
      "        ENTP       0.54      0.49      0.51       210\n",
      "        INTP       0.61      0.39      0.48        76\n",
      "        INTJ       0.57      0.58      0.57       223\n",
      "        ENTJ       0.17      0.11      0.13         9\n",
      "        ENFJ       0.25      0.07      0.11        14\n",
      "        INFP       0.50      0.21      0.30        14\n",
      "        ENFP       0.63      0.38      0.47        32\n",
      "        ISFP       0.57      0.62      0.59       456\n",
      "        ISTP       0.66      0.73      0.69       627\n",
      "        ISFJ       0.55      0.58      0.56       365\n",
      "        ISTJ       0.62      0.67      0.64       462\n",
      "        ESTP       0.53      0.50      0.51        52\n",
      "        ESFP       0.45      0.34      0.39        79\n",
      "        ESTJ       0.48      0.39      0.43        64\n",
      "        ESFJ       0.58      0.56      0.57       114\n",
      "\n",
      "    accuracy                           0.59      2863\n",
      "   macro avg       0.51      0.42      0.45      2863\n",
      "weighted avg       0.58      0.59      0.58      2863\n",
      "\n"
     ]
    }
   ],
   "source": [
    "c_clf = LinearSVC(max_iter=1000, random_state=14)\n",
    "c_clf.fit(c_X_train, c_y_train)\n",
    "c_y_pred = c_clf.predict(c_X_test)\n",
    "print(classification_report(c_y_test, c_y_pred, target_names=labels))"
   ]
  },
  {
   "cell_type": "markdown",
   "metadata": {},
   "source": [
    "**Configuration 2:** TfidfVectorizer + LinearSVC"
   ]
  },
  {
   "cell_type": "code",
   "execution_count": 33,
   "metadata": {},
   "outputs": [
    {
     "name": "stdout",
     "output_type": "stream",
     "text": [
      "              precision    recall  f1-score   support\n",
      "\n",
      "        INFJ       0.67      0.21      0.32        66\n",
      "        ENTP       0.65      0.56      0.60       210\n",
      "        INTP       0.81      0.45      0.58        76\n",
      "        INTJ       0.68      0.63      0.66       223\n",
      "        ENTJ       0.20      0.11      0.14         9\n",
      "        ENFJ       1.00      0.07      0.13        14\n",
      "        INFP       0.50      0.14      0.22        14\n",
      "        ENFP       0.73      0.34      0.47        32\n",
      "        ISFP       0.64      0.68      0.66       456\n",
      "        ISTP       0.68      0.85      0.76       627\n",
      "        ISFJ       0.62      0.62      0.62       365\n",
      "        ISTJ       0.68      0.76      0.72       462\n",
      "        ESTP       0.69      0.56      0.62        52\n",
      "        ESFP       0.62      0.38      0.47        79\n",
      "        ESTJ       0.74      0.41      0.53        64\n",
      "        ESFJ       0.70      0.67      0.68       114\n",
      "\n",
      "    accuracy                           0.67      2863\n",
      "   macro avg       0.66      0.47      0.51      2863\n",
      "weighted avg       0.67      0.67      0.65      2863\n",
      "\n"
     ]
    }
   ],
   "source": [
    "ti_clf = LinearSVC(random_state=14)\n",
    "ti_clf.fit(ti_X_train, ti_y_train)\n",
    "ti_y_pred = ti_clf.predict(ti_X_test)\n",
    "print(classification_report(ti_y_test, ti_y_pred, target_names=labels))"
   ]
  },
  {
   "cell_type": "markdown",
   "metadata": {},
   "source": [
    "**Configuration 3:** CountVectorizer + MultinomialNB"
   ]
  },
  {
   "cell_type": "code",
   "execution_count": 34,
   "metadata": {},
   "outputs": [
    {
     "name": "stdout",
     "output_type": "stream",
     "text": [
      "              precision    recall  f1-score   support\n",
      "\n",
      "        INFJ       0.00      0.00      0.00        66\n",
      "        ENTP       1.00      0.01      0.02       210\n",
      "        INTP       0.00      0.00      0.00        76\n",
      "        INTJ       0.40      0.01      0.02       223\n",
      "        ENTJ       0.00      0.00      0.00         9\n",
      "        ENFJ       0.00      0.00      0.00        14\n",
      "        INFP       0.00      0.00      0.00        14\n",
      "        ENFP       0.00      0.00      0.00        32\n",
      "        ISFP       0.33      0.60      0.43       456\n",
      "        ISTP       0.35      0.88      0.51       627\n",
      "        ISFJ       0.64      0.15      0.25       365\n",
      "        ISTJ       0.50      0.41      0.45       462\n",
      "        ESTP       0.00      0.00      0.00        52\n",
      "        ESFP       0.00      0.00      0.00        79\n",
      "        ESTJ       0.00      0.00      0.00        64\n",
      "        ESFJ       0.00      0.00      0.00       114\n",
      "\n",
      "    accuracy                           0.38      2863\n",
      "   macro avg       0.20      0.13      0.10      2863\n",
      "weighted avg       0.40      0.38      0.29      2863\n",
      "\n"
     ]
    },
    {
     "name": "stderr",
     "output_type": "stream",
     "text": [
      "c:\\users\\anthony\\documents\\machine-learning\\mbti-prediction\\dev-env\\lib\\site-packages\\sklearn\\metrics\\_classification.py:1221: UndefinedMetricWarning: Precision and F-score are ill-defined and being set to 0.0 in labels with no predicted samples. Use `zero_division` parameter to control this behavior.\n",
      "  _warn_prf(average, modifier, msg_start, len(result))\n"
     ]
    }
   ],
   "source": [
    "c_clf = MultinomialNB()\n",
    "c_clf.fit(c_X_train, c_y_train)\n",
    "c_y_pred = c_clf.predict(c_X_test)\n",
    "print(classification_report(c_y_test, c_y_pred, target_names=labels))"
   ]
  },
  {
   "cell_type": "markdown",
   "metadata": {},
   "source": [
    "**Configuration 4:** TfidfVectorizer + MultinomialNB"
   ]
  },
  {
   "cell_type": "code",
   "execution_count": 35,
   "metadata": {},
   "outputs": [
    {
     "name": "stdout",
     "output_type": "stream",
     "text": [
      "              precision    recall  f1-score   support\n",
      "\n",
      "        INFJ       0.00      0.00      0.00        66\n",
      "        ENTP       0.00      0.00      0.00       210\n",
      "        INTP       0.00      0.00      0.00        76\n",
      "        INTJ       0.00      0.00      0.00       223\n",
      "        ENTJ       0.00      0.00      0.00         9\n",
      "        ENFJ       0.00      0.00      0.00        14\n",
      "        INFP       0.00      0.00      0.00        14\n",
      "        ENFP       0.00      0.00      0.00        32\n",
      "        ISFP       0.36      0.01      0.02       456\n",
      "        ISTP       0.22      1.00      0.36       627\n",
      "        ISFJ       0.00      0.00      0.00       365\n",
      "        ISTJ       0.00      0.00      0.00       462\n",
      "        ESTP       0.00      0.00      0.00        52\n",
      "        ESFP       0.00      0.00      0.00        79\n",
      "        ESTJ       0.00      0.00      0.00        64\n",
      "        ESFJ       0.00      0.00      0.00       114\n",
      "\n",
      "    accuracy                           0.22      2863\n",
      "   macro avg       0.04      0.06      0.02      2863\n",
      "weighted avg       0.11      0.22      0.08      2863\n",
      "\n"
     ]
    },
    {
     "name": "stderr",
     "output_type": "stream",
     "text": [
      "c:\\users\\anthony\\documents\\machine-learning\\mbti-prediction\\dev-env\\lib\\site-packages\\sklearn\\metrics\\_classification.py:1221: UndefinedMetricWarning: Precision and F-score are ill-defined and being set to 0.0 in labels with no predicted samples. Use `zero_division` parameter to control this behavior.\n",
      "  _warn_prf(average, modifier, msg_start, len(result))\n"
     ]
    }
   ],
   "source": [
    "ti_clf = MultinomialNB()\n",
    "ti_clf.fit(ti_X_train, ti_y_train)\n",
    "ti_y_pred = ti_clf.predict(ti_X_test)\n",
    "print(classification_report(ti_y_test, ti_y_pred, target_names=labels))"
   ]
  },
  {
   "cell_type": "markdown",
   "metadata": {},
   "source": [
    "**Configuration 5:** CountVectorizer + LogisticRegression"
   ]
  },
  {
   "cell_type": "code",
   "execution_count": 38,
   "metadata": {},
   "outputs": [
    {
     "name": "stdout",
     "output_type": "stream",
     "text": [
      "              precision    recall  f1-score   support\n",
      "\n",
      "        INFJ       0.43      0.23      0.30        66\n",
      "        ENTP       0.57      0.51      0.54       210\n",
      "        INTP       0.63      0.45      0.52        76\n",
      "        INTJ       0.59      0.62      0.60       223\n",
      "        ENTJ       0.11      0.11      0.11         9\n",
      "        ENFJ       0.43      0.21      0.29        14\n",
      "        INFP       0.50      0.29      0.36        14\n",
      "        ENFP       0.61      0.44      0.51        32\n",
      "        ISFP       0.60      0.63      0.61       456\n",
      "        ISTP       0.68      0.75      0.72       627\n",
      "        ISFJ       0.60      0.58      0.59       365\n",
      "        ISTJ       0.64      0.69      0.66       462\n",
      "        ESTP       0.56      0.56      0.56        52\n",
      "        ESFP       0.48      0.37      0.42        79\n",
      "        ESTJ       0.57      0.52      0.54        64\n",
      "        ESFJ       0.65      0.65      0.65       114\n",
      "\n",
      "    accuracy                           0.62      2863\n",
      "   macro avg       0.54      0.47      0.50      2863\n",
      "weighted avg       0.61      0.62      0.61      2863\n",
      "\n"
     ]
    },
    {
     "name": "stderr",
     "output_type": "stream",
     "text": [
      "c:\\users\\anthony\\documents\\machine-learning\\mbti-prediction\\dev-env\\lib\\site-packages\\sklearn\\linear_model\\_logistic.py:762: ConvergenceWarning: lbfgs failed to converge (status=1):\n",
      "STOP: TOTAL NO. of ITERATIONS REACHED LIMIT.\n",
      "\n",
      "Increase the number of iterations (max_iter) or scale the data as shown in:\n",
      "    https://scikit-learn.org/stable/modules/preprocessing.html\n",
      "Please also refer to the documentation for alternative solver options:\n",
      "    https://scikit-learn.org/stable/modules/linear_model.html#logistic-regression\n",
      "  n_iter_i = _check_optimize_result(\n"
     ]
    }
   ],
   "source": [
    "c_clf = LogisticRegression(class_weight='balanced', max_iter=1000, random_state=14)\n",
    "c_clf.fit(c_X_train, c_y_train)\n",
    "c_y_pred = c_clf.predict(c_X_test)\n",
    "print(classification_report(c_y_test, c_y_pred, target_names=labels))"
   ]
  },
  {
   "cell_type": "markdown",
   "metadata": {},
   "source": [
    "**Configuration 6:** TfidfVectorizer + LogisticRegression"
   ]
  },
  {
   "cell_type": "code",
   "execution_count": 39,
   "metadata": {},
   "outputs": [
    {
     "name": "stdout",
     "output_type": "stream",
     "text": [
      "              precision    recall  f1-score   support\n",
      "\n",
      "        INFJ       0.59      0.48      0.53        66\n",
      "        ENTP       0.65      0.60      0.62       210\n",
      "        INTP       0.58      0.59      0.59        76\n",
      "        INTJ       0.68      0.67      0.67       223\n",
      "        ENTJ       0.10      0.11      0.11         9\n",
      "        ENFJ       0.18      0.21      0.19        14\n",
      "        INFP       0.67      0.57      0.62        14\n",
      "        ENFP       0.52      0.53      0.52        32\n",
      "        ISFP       0.79      0.63      0.70       456\n",
      "        ISTP       0.75      0.77      0.76       627\n",
      "        ISFJ       0.66      0.65      0.66       365\n",
      "        ISTJ       0.69      0.78      0.73       462\n",
      "        ESTP       0.57      0.69      0.63        52\n",
      "        ESFP       0.53      0.61      0.57        79\n",
      "        ESTJ       0.64      0.67      0.66        64\n",
      "        ESFJ       0.62      0.77      0.68       114\n",
      "\n",
      "    accuracy                           0.69      2863\n",
      "   macro avg       0.58      0.58      0.58      2863\n",
      "weighted avg       0.69      0.69      0.69      2863\n",
      "\n"
     ]
    }
   ],
   "source": [
    "ti_clf = LogisticRegression(class_weight='balanced', max_iter=1000, random_state=14)\n",
    "ti_clf.fit(ti_X_train, ti_y_train)\n",
    "ti_y_pred = ti_clf.predict(ti_X_test)\n",
    "print(classification_report(ti_y_test, ti_y_pred, target_names=labels))"
   ]
  },
  {
   "cell_type": "code",
   "execution_count": 40,
   "metadata": {},
   "outputs": [
    {
     "name": "stdout",
     "output_type": "stream",
     "text": [
      "              precision    recall  f1-score   support\n",
      "\n",
      "        INFJ       0.67      0.36      0.47        66\n",
      "        ENTP       0.65      0.59      0.62       210\n",
      "        INTP       0.68      0.50      0.58        76\n",
      "        INTJ       0.67      0.66      0.67       223\n",
      "        ENTJ       0.12      0.11      0.12         9\n",
      "        ENFJ       0.20      0.07      0.11        14\n",
      "        INFP       0.71      0.36      0.48        14\n",
      "        ENFP       0.62      0.41      0.49        32\n",
      "        ISFP       0.73      0.67      0.70       456\n",
      "        ISTP       0.72      0.82      0.77       627\n",
      "        ISFJ       0.65      0.66      0.65       365\n",
      "        ISTJ       0.69      0.80      0.74       462\n",
      "        ESTP       0.63      0.56      0.59        52\n",
      "        ESFP       0.63      0.48      0.55        79\n",
      "        ESTJ       0.73      0.58      0.64        64\n",
      "        ESFJ       0.68      0.71      0.70       114\n",
      "\n",
      "    accuracy                           0.69      2863\n",
      "   macro avg       0.61      0.52      0.55      2863\n",
      "weighted avg       0.69      0.69      0.68      2863\n",
      "\n"
     ]
    }
   ],
   "source": [
    "ti_clf = LogisticRegression(class_weight='balanced', multi_class='ovr', max_iter=1000, random_state=14)\n",
    "ti_clf.fit(ti_X_train, ti_y_train)\n",
    "ti_y_pred = ti_clf.predict(ti_X_test)\n",
    "print(classification_report(ti_y_test, ti_y_pred, target_names=labels))"
   ]
  },
  {
   "cell_type": "code",
   "execution_count": null,
   "metadata": {},
   "outputs": [],
   "source": []
  }
 ],
 "metadata": {
  "kernelspec": {
   "display_name": "Python 3",
   "language": "python",
   "name": "python3"
  },
  "language_info": {
   "codemirror_mode": {
    "name": "ipython",
    "version": 3
   },
   "file_extension": ".py",
   "mimetype": "text/x-python",
   "name": "python",
   "nbconvert_exporter": "python",
   "pygments_lexer": "ipython3",
   "version": "3.8.6"
  }
 },
 "nbformat": 4,
 "nbformat_minor": 4
}
