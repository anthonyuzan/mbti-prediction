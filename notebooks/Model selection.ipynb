{
 "cells": [
  {
   "cell_type": "markdown",
   "metadata": {},
   "source": [
    "# Model selection"
   ]
  },
  {
   "cell_type": "markdown",
   "metadata": {},
   "source": [
    "In this notebook, we will benchmark different configurations (vectorization and classification) to find the best one to our use case."
   ]
  },
  {
   "cell_type": "markdown",
   "metadata": {},
   "source": [
    "## Libraries"
   ]
  },
  {
   "cell_type": "code",
   "execution_count": 34,
   "metadata": {},
   "outputs": [],
   "source": [
    "import nltk\n",
    "from nltk.corpus import stopwords\n",
    "from nltk.stem import PorterStemmer\n",
    "import pandas as pd\n",
    "import plotly.express as px\n",
    "import re\n",
    "from sklearn.feature_extraction.text import CountVectorizer\n",
    "from sklearn.feature_extraction.text import TfidfVectorizer\n",
    "from sklearn.linear_model import LogisticRegression\n",
    "from sklearn.metrics import classification_report\n",
    "from sklearn.model_selection import train_test_split\n",
    "from sklearn.naive_bayes import MultinomialNB\n",
    "from sklearn.svm import LinearSVC"
   ]
  },
  {
   "cell_type": "markdown",
   "metadata": {},
   "source": [
    "## Data import"
   ]
  },
  {
   "cell_type": "code",
   "execution_count": 35,
   "metadata": {},
   "outputs": [
    {
     "data": {
      "text/html": [
       "<div>\n",
       "<style scoped>\n",
       "    .dataframe tbody tr th:only-of-type {\n",
       "        vertical-align: middle;\n",
       "    }\n",
       "\n",
       "    .dataframe tbody tr th {\n",
       "        vertical-align: top;\n",
       "    }\n",
       "\n",
       "    .dataframe thead th {\n",
       "        text-align: right;\n",
       "    }\n",
       "</style>\n",
       "<table border=\"1\" class=\"dataframe\">\n",
       "  <thead>\n",
       "    <tr style=\"text-align: right;\">\n",
       "      <th></th>\n",
       "      <th>type</th>\n",
       "      <th>posts_final</th>\n",
       "    </tr>\n",
       "  </thead>\n",
       "  <tbody>\n",
       "    <tr>\n",
       "      <th>0</th>\n",
       "      <td>INFJ</td>\n",
       "      <td>http youtub watch v qsxhcwe3krw http 41 media ...</td>\n",
       "    </tr>\n",
       "    <tr>\n",
       "      <th>1</th>\n",
       "      <td>ENTP</td>\n",
       "      <td>find lack post alarm sex bore posit often exam...</td>\n",
       "    </tr>\n",
       "    <tr>\n",
       "      <th>2</th>\n",
       "      <td>INTP</td>\n",
       "      <td>http youtub watch v fhigbolffgw cours bless cu...</td>\n",
       "    </tr>\n",
       "    <tr>\n",
       "      <th>3</th>\n",
       "      <td>INTJ</td>\n",
       "      <td>dear intp enjoy convers day esoter gab natur u...</td>\n",
       "    </tr>\n",
       "    <tr>\n",
       "      <th>4</th>\n",
       "      <td>ENTJ</td>\n",
       "      <td>fire anoth silli misconcept approach logic go ...</td>\n",
       "    </tr>\n",
       "  </tbody>\n",
       "</table>\n",
       "</div>"
      ],
      "text/plain": [
       "   type                                        posts_final\n",
       "0  INFJ  http youtub watch v qsxhcwe3krw http 41 media ...\n",
       "1  ENTP  find lack post alarm sex bore posit often exam...\n",
       "2  INTP  http youtub watch v fhigbolffgw cours bless cu...\n",
       "3  INTJ  dear intp enjoy convers day esoter gab natur u...\n",
       "4  ENTJ  fire anoth silli misconcept approach logic go ..."
      ]
     },
     "execution_count": 35,
     "metadata": {},
     "output_type": "execute_result"
    }
   ],
   "source": [
    "df = pd.read_csv('../mbti_data_preproc.csv')\n",
    "df.head()"
   ]
  },
  {
   "cell_type": "markdown",
   "metadata": {},
   "source": [
    "## Vectorization"
   ]
  },
  {
   "cell_type": "markdown",
   "metadata": {},
   "source": [
    "We benchmark 2 methods:\n",
    "- CountVectorizer\n",
    "- TfidfVectorizer"
   ]
  },
  {
   "cell_type": "code",
   "execution_count": 56,
   "metadata": {},
   "outputs": [],
   "source": [
    "corpus = df['posts_final']\n",
    "y = df['type']\n",
    "\n",
    "c_vectorizer = CountVectorizer()\n",
    "ti_vectorizer = TfidfVectorizer()"
   ]
  },
  {
   "cell_type": "code",
   "execution_count": 41,
   "metadata": {},
   "outputs": [],
   "source": [
    "c_X = c_vectorizer.fit_transform(corpus)\n",
    "ti_X = ti_vectorizer.fit_transform(corpus)"
   ]
  },
  {
   "cell_type": "code",
   "execution_count": 43,
   "metadata": {},
   "outputs": [],
   "source": [
    "c_X_train, c_X_test, c_y_train, c_y_test = train_test_split(c_X, y, test_size=0.2, random_state=14)\n",
    "ti_X_train, ti_X_test, ti_y_train, ti_y_test = train_test_split(ti_X, y, test_size=0.2, random_state=14)"
   ]
  },
  {
   "cell_type": "markdown",
   "metadata": {},
   "source": [
    "## Prediction"
   ]
  },
  {
   "cell_type": "markdown",
   "metadata": {},
   "source": [
    "**Configuration 1:** CountVectorizer + LinearSVC"
   ]
  },
  {
   "cell_type": "code",
   "execution_count": 55,
   "metadata": {},
   "outputs": [
    {
     "name": "stdout",
     "output_type": "stream",
     "text": [
      "              precision    recall  f1-score   support\n",
      "\n",
      "        ENFJ       0.47      0.20      0.29        44\n",
      "        ENFP       0.56      0.57      0.56       122\n",
      "        ENTJ       0.67      0.48      0.56        50\n",
      "        ENTP       0.53      0.62      0.57       128\n",
      "        ESFJ       0.33      0.20      0.25         5\n",
      "        ESFP       0.50      0.38      0.43         8\n",
      "        ESTJ       0.50      0.29      0.36         7\n",
      "        ESTP       0.62      0.53      0.57        15\n",
      "        INFJ       0.61      0.65      0.63       274\n",
      "        INFP       0.69      0.71      0.70       391\n",
      "        INTJ       0.56      0.57      0.57       221\n",
      "        INTP       0.63      0.63      0.63       286\n",
      "        ISFJ       0.45      0.48      0.47        29\n",
      "        ISFP       0.35      0.30      0.32        47\n",
      "        ISTJ       0.49      0.42      0.45        40\n",
      "        ISTP       0.53      0.53      0.53        68\n",
      "\n",
      "    accuracy                           0.60      1735\n",
      "   macro avg       0.53      0.47      0.49      1735\n",
      "weighted avg       0.60      0.60      0.59      1735\n",
      "\n"
     ]
    }
   ],
   "source": [
    "c_clf = LinearSVC(max_iter=1000, random_state=14)\n",
    "c_clf.fit(c_X_train, c_y_train)\n",
    "c_y_pred = c_clf.predict(c_X_test)\n",
    "print(classification_report(c_y_test, c_y_pred))"
   ]
  },
  {
   "cell_type": "markdown",
   "metadata": {},
   "source": [
    "**Configuration 2:** TfidfVectorizer + LinearSVC"
   ]
  },
  {
   "cell_type": "code",
   "execution_count": 57,
   "metadata": {},
   "outputs": [
    {
     "name": "stdout",
     "output_type": "stream",
     "text": [
      "              precision    recall  f1-score   support\n",
      "\n",
      "        ENFJ       0.64      0.20      0.31        44\n",
      "        ENFP       0.66      0.63      0.65       122\n",
      "        ENTJ       0.76      0.52      0.62        50\n",
      "        ENTP       0.73      0.68      0.70       128\n",
      "        ESFJ       0.25      0.20      0.22         5\n",
      "        ESFP       1.00      0.12      0.22         8\n",
      "        ESTJ       1.00      0.43      0.60         7\n",
      "        ESTP       0.62      0.53      0.57        15\n",
      "        INFJ       0.65      0.72      0.68       274\n",
      "        INFP       0.73      0.86      0.79       391\n",
      "        INTJ       0.65      0.65      0.65       221\n",
      "        INTP       0.72      0.74      0.73       286\n",
      "        ISFJ       0.56      0.52      0.54        29\n",
      "        ISFP       0.68      0.36      0.47        47\n",
      "        ISTJ       0.79      0.47      0.59        40\n",
      "        ISTP       0.65      0.68      0.66        68\n",
      "\n",
      "    accuracy                           0.69      1735\n",
      "   macro avg       0.69      0.52      0.56      1735\n",
      "weighted avg       0.69      0.69      0.68      1735\n",
      "\n"
     ]
    }
   ],
   "source": [
    "ti_clf = LinearSVC(random_state=14)\n",
    "ti_clf.fit(ti_X_train, ti_y_train)\n",
    "ti_y_pred = ti_clf.predict(ti_X_test)\n",
    "print(classification_report(ti_y_test, ti_y_pred))"
   ]
  },
  {
   "cell_type": "markdown",
   "metadata": {},
   "source": [
    "**Configuration 3:** CountVectorizer + MultinomialNB"
   ]
  },
  {
   "cell_type": "code",
   "execution_count": 59,
   "metadata": {},
   "outputs": [
    {
     "name": "stdout",
     "output_type": "stream",
     "text": [
      "              precision    recall  f1-score   support\n",
      "\n",
      "        ENFJ       0.00      0.00      0.00        44\n",
      "        ENFP       1.00      0.01      0.02       122\n",
      "        ENTJ       0.00      0.00      0.00        50\n",
      "        ENTP       0.43      0.02      0.04       128\n",
      "        ESFJ       0.00      0.00      0.00         5\n",
      "        ESFP       0.00      0.00      0.00         8\n",
      "        ESTJ       0.00      0.00      0.00         7\n",
      "        ESTP       0.00      0.00      0.00        15\n",
      "        INFJ       0.35      0.64      0.45       274\n",
      "        INFP       0.40      0.87      0.55       391\n",
      "        INTJ       0.68      0.19      0.30       221\n",
      "        INTP       0.51      0.55      0.53       286\n",
      "        ISFJ       0.00      0.00      0.00        29\n",
      "        ISFP       0.00      0.00      0.00        47\n",
      "        ISTJ       0.00      0.00      0.00        40\n",
      "        ISTP       0.00      0.00      0.00        68\n",
      "\n",
      "    accuracy                           0.41      1735\n",
      "   macro avg       0.21      0.14      0.12      1735\n",
      "weighted avg       0.42      0.41      0.32      1735\n",
      "\n"
     ]
    }
   ],
   "source": [
    "c_clf = MultinomialNB()\n",
    "c_clf.fit(c_X_train, c_y_train)\n",
    "c_y_pred = c_clf.predict(c_X_test)\n",
    "print(classification_report(c_y_test, c_y_pred, zero_division=0))"
   ]
  },
  {
   "cell_type": "markdown",
   "metadata": {},
   "source": [
    "**Configuration 4:** TfidfVectorizer + MultinomialNB"
   ]
  },
  {
   "cell_type": "code",
   "execution_count": 61,
   "metadata": {},
   "outputs": [
    {
     "name": "stdout",
     "output_type": "stream",
     "text": [
      "              precision    recall  f1-score   support\n",
      "\n",
      "        ENFJ       0.00      0.00      0.00        44\n",
      "        ENFP       0.00      0.00      0.00       122\n",
      "        ENTJ       0.00      0.00      0.00        50\n",
      "        ENTP       0.00      0.00      0.00       128\n",
      "        ESFJ       0.00      0.00      0.00         5\n",
      "        ESFP       0.00      0.00      0.00         8\n",
      "        ESTJ       0.00      0.00      0.00         7\n",
      "        ESTP       0.00      0.00      0.00        15\n",
      "        INFJ       0.00      0.00      0.00       274\n",
      "        INFP       0.23      1.00      0.37       391\n",
      "        INTJ       0.00      0.00      0.00       221\n",
      "        INTP       0.00      0.00      0.00       286\n",
      "        ISFJ       0.00      0.00      0.00        29\n",
      "        ISFP       0.00      0.00      0.00        47\n",
      "        ISTJ       0.00      0.00      0.00        40\n",
      "        ISTP       0.00      0.00      0.00        68\n",
      "\n",
      "    accuracy                           0.23      1735\n",
      "   macro avg       0.01      0.06      0.02      1735\n",
      "weighted avg       0.05      0.23      0.08      1735\n",
      "\n"
     ]
    }
   ],
   "source": [
    "ti_clf = MultinomialNB()\n",
    "ti_clf.fit(ti_X_train, ti_y_train)\n",
    "ti_y_pred = ti_clf.predict(ti_X_test)\n",
    "print(classification_report(ti_y_test, ti_y_pred, zero_division=0))"
   ]
  },
  {
   "cell_type": "markdown",
   "metadata": {},
   "source": [
    "**Configuration 5:** CountVectorizer + LogisticRegression"
   ]
  },
  {
   "cell_type": "code",
   "execution_count": 62,
   "metadata": {},
   "outputs": [
    {
     "name": "stdout",
     "output_type": "stream",
     "text": [
      "              precision    recall  f1-score   support\n",
      "\n",
      "        ENFJ       0.50      0.25      0.33        44\n",
      "        ENFP       0.57      0.58      0.58       122\n",
      "        ENTJ       0.69      0.54      0.61        50\n",
      "        ENTP       0.59      0.66      0.63       128\n",
      "        ESFJ       0.14      0.20      0.17         5\n",
      "        ESFP       0.43      0.38      0.40         8\n",
      "        ESTJ       0.43      0.43      0.43         7\n",
      "        ESTP       0.50      0.60      0.55        15\n",
      "        INFJ       0.66      0.66      0.66       274\n",
      "        INFP       0.71      0.74      0.73       391\n",
      "        INTJ       0.61      0.59      0.60       221\n",
      "        INTP       0.67      0.66      0.66       286\n",
      "        ISFJ       0.52      0.55      0.53        29\n",
      "        ISFP       0.41      0.38      0.40        47\n",
      "        ISTJ       0.58      0.62      0.60        40\n",
      "        ISTP       0.59      0.62      0.60        68\n",
      "\n",
      "    accuracy                           0.63      1735\n",
      "   macro avg       0.54      0.53      0.53      1735\n",
      "weighted avg       0.63      0.63      0.63      1735\n",
      "\n"
     ]
    },
    {
     "name": "stderr",
     "output_type": "stream",
     "text": [
      "c:\\users\\anthony\\documents\\machine-learning\\mbti-prediction\\dev-env\\lib\\site-packages\\sklearn\\linear_model\\_logistic.py:762: ConvergenceWarning:\n",
      "\n",
      "lbfgs failed to converge (status=1):\n",
      "STOP: TOTAL NO. of ITERATIONS REACHED LIMIT.\n",
      "\n",
      "Increase the number of iterations (max_iter) or scale the data as shown in:\n",
      "    https://scikit-learn.org/stable/modules/preprocessing.html\n",
      "Please also refer to the documentation for alternative solver options:\n",
      "    https://scikit-learn.org/stable/modules/linear_model.html#logistic-regression\n",
      "\n"
     ]
    }
   ],
   "source": [
    "c_clf = LogisticRegression(class_weight='balanced', max_iter=1000, random_state=14)\n",
    "c_clf.fit(c_X_train, c_y_train)\n",
    "c_y_pred = c_clf.predict(c_X_test)\n",
    "print(classification_report(c_y_test, c_y_pred))"
   ]
  },
  {
   "cell_type": "markdown",
   "metadata": {},
   "source": [
    "**Configuration 6:** TfidfVectorizer + LogisticRegression"
   ]
  },
  {
   "cell_type": "code",
   "execution_count": 63,
   "metadata": {},
   "outputs": [
    {
     "name": "stdout",
     "output_type": "stream",
     "text": [
      "              precision    recall  f1-score   support\n",
      "\n",
      "        ENFJ       0.54      0.50      0.52        44\n",
      "        ENFP       0.65      0.61      0.63       122\n",
      "        ENTJ       0.59      0.66      0.62        50\n",
      "        ENTP       0.70      0.70      0.70       128\n",
      "        ESFJ       0.14      0.20      0.17         5\n",
      "        ESFP       0.20      0.25      0.22         8\n",
      "        ESTJ       0.50      0.57      0.53         7\n",
      "        ESTP       0.42      0.67      0.51        15\n",
      "        INFJ       0.81      0.67      0.74       274\n",
      "        INFP       0.79      0.77      0.78       391\n",
      "        INTJ       0.71      0.68      0.70       221\n",
      "        INTP       0.77      0.80      0.78       286\n",
      "        ISFJ       0.44      0.66      0.53        29\n",
      "        ISFP       0.57      0.62      0.59        47\n",
      "        ISTJ       0.59      0.72      0.65        40\n",
      "        ISTP       0.63      0.76      0.69        68\n",
      "\n",
      "    accuracy                           0.71      1735\n",
      "   macro avg       0.57      0.62      0.59      1735\n",
      "weighted avg       0.72      0.71      0.71      1735\n",
      "\n"
     ]
    }
   ],
   "source": [
    "ti_clf = LogisticRegression(class_weight='balanced', max_iter=1000, random_state=14)\n",
    "ti_clf.fit(ti_X_train, ti_y_train)\n",
    "ti_y_pred = ti_clf.predict(ti_X_test)\n",
    "print(classification_report(ti_y_test, ti_y_pred))"
   ]
  },
  {
   "cell_type": "code",
   "execution_count": 64,
   "metadata": {},
   "outputs": [
    {
     "name": "stdout",
     "output_type": "stream",
     "text": [
      "              precision    recall  f1-score   support\n",
      "\n",
      "        ENFJ       0.69      0.41      0.51        44\n",
      "        ENFP       0.65      0.61      0.63       122\n",
      "        ENTJ       0.71      0.58      0.64        50\n",
      "        ENTP       0.69      0.70      0.69       128\n",
      "        ESFJ       0.17      0.20      0.18         5\n",
      "        ESFP       0.67      0.25      0.36         8\n",
      "        ESTJ       0.60      0.43      0.50         7\n",
      "        ESTP       0.56      0.67      0.61        15\n",
      "        INFJ       0.73      0.71      0.72       274\n",
      "        INFP       0.76      0.82      0.79       391\n",
      "        INTJ       0.70      0.68      0.69       221\n",
      "        INTP       0.74      0.81      0.77       286\n",
      "        ISFJ       0.45      0.52      0.48        29\n",
      "        ISFP       0.65      0.51      0.57        47\n",
      "        ISTJ       0.78      0.70      0.74        40\n",
      "        ISTP       0.68      0.71      0.69        68\n",
      "\n",
      "    accuracy                           0.72      1735\n",
      "   macro avg       0.64      0.58      0.60      1735\n",
      "weighted avg       0.71      0.72      0.71      1735\n",
      "\n"
     ]
    }
   ],
   "source": [
    "ti_clf = LogisticRegression(class_weight='balanced', multi_class='ovr', max_iter=1000, random_state=14)\n",
    "ti_clf.fit(ti_X_train, ti_y_train)\n",
    "ti_y_pred = ti_clf.predict(ti_X_test)\n",
    "print(classification_report(ti_y_test, ti_y_pred))"
   ]
  },
  {
   "cell_type": "markdown",
   "metadata": {},
   "source": [
    "## Conclusion\n",
    "The best results are achieved with the **TfidfVectorizer + LogisticRegression** configuration. We notice that for well represented classes, the results are quite good. However, for the less represented classes, the results are less good and less reliable. I therefore propose a new approach strategy which consists in creating a model to predict each class independently, i.e. 4 binary classification models."
   ]
  }
 ],
 "metadata": {
  "kernelspec": {
   "display_name": "Python 3",
   "language": "python",
   "name": "python3"
  },
  "language_info": {
   "codemirror_mode": {
    "name": "ipython",
    "version": 3
   },
   "file_extension": ".py",
   "mimetype": "text/x-python",
   "name": "python",
   "nbconvert_exporter": "python",
   "pygments_lexer": "ipython3",
   "version": "3.8.6"
  }
 },
 "nbformat": 4,
 "nbformat_minor": 4
}
