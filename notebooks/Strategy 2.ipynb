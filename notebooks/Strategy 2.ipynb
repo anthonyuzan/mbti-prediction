{
 "cells": [
  {
   "cell_type": "markdown",
   "metadata": {},
   "source": [
    "# MBTI Prediction - Strategy 2\n",
    "In this notebook, we will train a classification model for each category and not only one to directly predict the full MBTI type."
   ]
  },
  {
   "cell_type": "markdown",
   "metadata": {},
   "source": [
    "## Libraries"
   ]
  },
  {
   "cell_type": "code",
   "execution_count": 1,
   "metadata": {},
   "outputs": [],
   "source": [
    "import matplotlib.pyplot as plt\n",
    "from nltk.corpus import stopwords\n",
    "from nltk.stem import PorterStemmer\n",
    "import pandas as pd\n",
    "import re\n",
    "from sklearn.feature_extraction.text import CountVectorizer\n",
    "from sklearn.feature_extraction.text import TfidfVectorizer\n",
    "from sklearn.metrics import classification_report\n",
    "from sklearn.model_selection import train_test_split\n",
    "from sklearn.svm import LinearSVC"
   ]
  },
  {
   "cell_type": "markdown",
   "metadata": {},
   "source": [
    "## Data import"
   ]
  },
  {
   "cell_type": "code",
   "execution_count": 2,
   "metadata": {},
   "outputs": [
    {
     "data": {
      "text/html": [
       "<div>\n",
       "<style scoped>\n",
       "    .dataframe tbody tr th:only-of-type {\n",
       "        vertical-align: middle;\n",
       "    }\n",
       "\n",
       "    .dataframe tbody tr th {\n",
       "        vertical-align: top;\n",
       "    }\n",
       "\n",
       "    .dataframe thead th {\n",
       "        text-align: right;\n",
       "    }\n",
       "</style>\n",
       "<table border=\"1\" class=\"dataframe\">\n",
       "  <thead>\n",
       "    <tr style=\"text-align: right;\">\n",
       "      <th></th>\n",
       "      <th>type</th>\n",
       "      <th>posts</th>\n",
       "    </tr>\n",
       "  </thead>\n",
       "  <tbody>\n",
       "    <tr>\n",
       "      <th>0</th>\n",
       "      <td>INFJ</td>\n",
       "      <td>'http://www.youtube.com/watch?v=qsXHcwe3krw|||...</td>\n",
       "    </tr>\n",
       "    <tr>\n",
       "      <th>1</th>\n",
       "      <td>ENTP</td>\n",
       "      <td>'I'm finding the lack of me in these posts ver...</td>\n",
       "    </tr>\n",
       "    <tr>\n",
       "      <th>2</th>\n",
       "      <td>INTP</td>\n",
       "      <td>'Good one  _____   https://www.youtube.com/wat...</td>\n",
       "    </tr>\n",
       "    <tr>\n",
       "      <th>3</th>\n",
       "      <td>INTJ</td>\n",
       "      <td>'Dear INTP,   I enjoyed our conversation the o...</td>\n",
       "    </tr>\n",
       "    <tr>\n",
       "      <th>4</th>\n",
       "      <td>ENTJ</td>\n",
       "      <td>'You're fired.|||That's another silly misconce...</td>\n",
       "    </tr>\n",
       "  </tbody>\n",
       "</table>\n",
       "</div>"
      ],
      "text/plain": [
       "   type                                              posts\n",
       "0  INFJ  'http://www.youtube.com/watch?v=qsXHcwe3krw|||...\n",
       "1  ENTP  'I'm finding the lack of me in these posts ver...\n",
       "2  INTP  'Good one  _____   https://www.youtube.com/wat...\n",
       "3  INTJ  'Dear INTP,   I enjoyed our conversation the o...\n",
       "4  ENTJ  'You're fired.|||That's another silly misconce..."
      ]
     },
     "execution_count": 2,
     "metadata": {},
     "output_type": "execute_result"
    }
   ],
   "source": [
    "df = pd.read_csv('../mbti_data.csv')\n",
    "df.head()"
   ]
  },
  {
   "cell_type": "markdown",
   "metadata": {},
   "source": [
    "## Data preprocessing"
   ]
  },
  {
   "cell_type": "markdown",
   "metadata": {},
   "source": [
    "First, we prepare our targets. We will have one classifier to predict the \"target_ie\" value, one for \"target_sn\", one for \"target_tf\" and one for \"target_jp\"."
   ]
  },
  {
   "cell_type": "code",
   "execution_count": 3,
   "metadata": {},
   "outputs": [
    {
     "data": {
      "text/html": [
       "<div>\n",
       "<style scoped>\n",
       "    .dataframe tbody tr th:only-of-type {\n",
       "        vertical-align: middle;\n",
       "    }\n",
       "\n",
       "    .dataframe tbody tr th {\n",
       "        vertical-align: top;\n",
       "    }\n",
       "\n",
       "    .dataframe thead th {\n",
       "        text-align: right;\n",
       "    }\n",
       "</style>\n",
       "<table border=\"1\" class=\"dataframe\">\n",
       "  <thead>\n",
       "    <tr style=\"text-align: right;\">\n",
       "      <th></th>\n",
       "      <th>type</th>\n",
       "      <th>posts</th>\n",
       "      <th>target_ie</th>\n",
       "      <th>target_sn</th>\n",
       "      <th>target_tf</th>\n",
       "      <th>target_jp</th>\n",
       "    </tr>\n",
       "  </thead>\n",
       "  <tbody>\n",
       "    <tr>\n",
       "      <th>0</th>\n",
       "      <td>INFJ</td>\n",
       "      <td>'http://www.youtube.com/watch?v=qsXHcwe3krw|||...</td>\n",
       "      <td>I</td>\n",
       "      <td>N</td>\n",
       "      <td>F</td>\n",
       "      <td>J</td>\n",
       "    </tr>\n",
       "    <tr>\n",
       "      <th>1</th>\n",
       "      <td>ENTP</td>\n",
       "      <td>'I'm finding the lack of me in these posts ver...</td>\n",
       "      <td>E</td>\n",
       "      <td>N</td>\n",
       "      <td>T</td>\n",
       "      <td>P</td>\n",
       "    </tr>\n",
       "    <tr>\n",
       "      <th>2</th>\n",
       "      <td>INTP</td>\n",
       "      <td>'Good one  _____   https://www.youtube.com/wat...</td>\n",
       "      <td>I</td>\n",
       "      <td>N</td>\n",
       "      <td>T</td>\n",
       "      <td>P</td>\n",
       "    </tr>\n",
       "    <tr>\n",
       "      <th>3</th>\n",
       "      <td>INTJ</td>\n",
       "      <td>'Dear INTP,   I enjoyed our conversation the o...</td>\n",
       "      <td>I</td>\n",
       "      <td>N</td>\n",
       "      <td>T</td>\n",
       "      <td>J</td>\n",
       "    </tr>\n",
       "    <tr>\n",
       "      <th>4</th>\n",
       "      <td>ENTJ</td>\n",
       "      <td>'You're fired.|||That's another silly misconce...</td>\n",
       "      <td>E</td>\n",
       "      <td>N</td>\n",
       "      <td>T</td>\n",
       "      <td>J</td>\n",
       "    </tr>\n",
       "  </tbody>\n",
       "</table>\n",
       "</div>"
      ],
      "text/plain": [
       "   type                                              posts target_ie  \\\n",
       "0  INFJ  'http://www.youtube.com/watch?v=qsXHcwe3krw|||...         I   \n",
       "1  ENTP  'I'm finding the lack of me in these posts ver...         E   \n",
       "2  INTP  'Good one  _____   https://www.youtube.com/wat...         I   \n",
       "3  INTJ  'Dear INTP,   I enjoyed our conversation the o...         I   \n",
       "4  ENTJ  'You're fired.|||That's another silly misconce...         E   \n",
       "\n",
       "  target_sn target_tf target_jp  \n",
       "0         N         F         J  \n",
       "1         N         T         P  \n",
       "2         N         T         P  \n",
       "3         N         T         J  \n",
       "4         N         T         J  "
      ]
     },
     "execution_count": 3,
     "metadata": {},
     "output_type": "execute_result"
    }
   ],
   "source": [
    "df['target_ie'] = df['type'].apply(lambda row: row[0])\n",
    "df['target_sn'] = df['type'].apply(lambda row: row[1])\n",
    "df['target_tf'] = df['type'].apply(lambda row: row[2])\n",
    "df['target_jp'] = df['type'].apply(lambda row: row[3])\n",
    "df.head()"
   ]
  },
  {
   "cell_type": "markdown",
   "metadata": {},
   "source": [
    "Let's see the distribition of the new variables created."
   ]
  },
  {
   "cell_type": "code",
   "execution_count": 4,
   "metadata": {},
   "outputs": [],
   "source": [
    "ie_dist = df['target_ie'].value_counts().rename_axis('types').reset_index(name='counts')\n",
    "sn_dist = df['target_sn'].value_counts().rename_axis('types').reset_index(name='counts')\n",
    "tf_dist = df['target_tf'].value_counts().rename_axis('types').reset_index(name='counts')\n",
    "jp_dist = df['target_jp'].value_counts().rename_axis('types').reset_index(name='counts')"
   ]
  },
  {
   "cell_type": "code",
   "execution_count": 5,
   "metadata": {},
   "outputs": [
    {
     "data": {
      "image/png": "[encoded data removed]",
      "text/plain": [
       "<Figure size 576x576 with 4 Axes>"
      ]
     },
     "metadata": {},
     "output_type": "display_data"
    }
   ],
   "source": [
    "fig, axs = plt.subplots(2, 2, figsize=(8,8))\n",
    "axs[0, 0].pie(ie_dist['counts'], labels=ie_dist['types'], autopct='%1.1f%%')\n",
    "axs[0, 0].set_title('Distribution I/E')\n",
    "axs[0, 1].pie(sn_dist['counts'], labels=sn_dist['types'], autopct='%1.1f%%')\n",
    "axs[0, 1].set_title('Distribution S/N')\n",
    "axs[1, 0].pie(tf_dist['counts'], labels=tf_dist['types'], autopct='%1.1f%%')\n",
    "axs[1, 0].set_title('Distribution T/F')\n",
    "axs[1, 1].pie(jp_dist['counts'], labels=jp_dist['types'], autopct='%1.1f%%')\n",
    "axs[1, 1].set_title('Distribution J/P')\n",
    "plt.show()"
   ]
  },
  {
   "cell_type": "markdown",
   "metadata": {},
   "source": [
    "F1-score"
   ]
  },
  {
   "cell_type": "markdown",
   "metadata": {},
   "source": [
    "Let's preprocess the data."
   ]
  },
  {
   "cell_type": "code",
   "execution_count": 6,
   "metadata": {},
   "outputs": [],
   "source": [
    "stop_words = set(stopwords.words('english'))\n",
    "porter_stemmer = PorterStemmer()\n",
    "\n",
    "def preprocessing(text, stemming_on=False, stop_words=stop_words, porter_stemmer=porter_stemmer):\n",
    "    text = text.lower()                                          # Lowercase\n",
    "    text = re.sub(r'[^a-zA-Z0-9\\s]', ' ', text)                  # Noise removal (regex to remove punctuations)\n",
    "    text = text.strip()                                          # Noise removal (extra spaces)\n",
    "    words = text.split()                                         # Split sentence into list of words\n",
    "    words = [w for w in words if not w in stop_words]            # Stopwords removal\n",
    "    if(stemming_on):\n",
    "        words = [porter_stemmer.stem(word) for word in words]    # Replace the word by its stem\n",
    "    text = ' '.join(words)                                       # Transform list of words to str\n",
    "    return text"
   ]
  },
  {
   "cell_type": "code",
   "execution_count": 7,
   "metadata": {},
   "outputs": [],
   "source": [
    "df['posts_preproc'] = df['posts'].apply(lambda row: preprocessing(row, stemming_on=True))"
   ]
  },
  {
   "cell_type": "code",
   "execution_count": 8,
   "metadata": {},
   "outputs": [
    {
     "data": {
      "text/html": [
       "<div>\n",
       "<style scoped>\n",
       "    .dataframe tbody tr th:only-of-type {\n",
       "        vertical-align: middle;\n",
       "    }\n",
       "\n",
       "    .dataframe tbody tr th {\n",
       "        vertical-align: top;\n",
       "    }\n",
       "\n",
       "    .dataframe thead th {\n",
       "        text-align: right;\n",
       "    }\n",
       "</style>\n",
       "<table border=\"1\" class=\"dataframe\">\n",
       "  <thead>\n",
       "    <tr style=\"text-align: right;\">\n",
       "      <th></th>\n",
       "      <th>type</th>\n",
       "      <th>posts</th>\n",
       "      <th>target_ie</th>\n",
       "      <th>target_sn</th>\n",
       "      <th>target_tf</th>\n",
       "      <th>target_jp</th>\n",
       "      <th>posts_preproc</th>\n",
       "    </tr>\n",
       "  </thead>\n",
       "  <tbody>\n",
       "    <tr>\n",
       "      <th>0</th>\n",
       "      <td>INFJ</td>\n",
       "      <td>'http://www.youtube.com/watch?v=qsXHcwe3krw|||...</td>\n",
       "      <td>I</td>\n",
       "      <td>N</td>\n",
       "      <td>F</td>\n",
       "      <td>J</td>\n",
       "      <td>http www youtub com watch v qsxhcwe3krw http 4...</td>\n",
       "    </tr>\n",
       "    <tr>\n",
       "      <th>1</th>\n",
       "      <td>ENTP</td>\n",
       "      <td>'I'm finding the lack of me in these posts ver...</td>\n",
       "      <td>E</td>\n",
       "      <td>N</td>\n",
       "      <td>T</td>\n",
       "      <td>P</td>\n",
       "      <td>find lack post alarm sex bore posit often exam...</td>\n",
       "    </tr>\n",
       "    <tr>\n",
       "      <th>2</th>\n",
       "      <td>INTP</td>\n",
       "      <td>'Good one  _____   https://www.youtube.com/wat...</td>\n",
       "      <td>I</td>\n",
       "      <td>N</td>\n",
       "      <td>T</td>\n",
       "      <td>P</td>\n",
       "      <td>good one http www youtub com watch v fhigbolff...</td>\n",
       "    </tr>\n",
       "    <tr>\n",
       "      <th>3</th>\n",
       "      <td>INTJ</td>\n",
       "      <td>'Dear INTP,   I enjoyed our conversation the o...</td>\n",
       "      <td>I</td>\n",
       "      <td>N</td>\n",
       "      <td>T</td>\n",
       "      <td>J</td>\n",
       "      <td>dear intp enjoy convers day esoter gab natur u...</td>\n",
       "    </tr>\n",
       "    <tr>\n",
       "      <th>4</th>\n",
       "      <td>ENTJ</td>\n",
       "      <td>'You're fired.|||That's another silly misconce...</td>\n",
       "      <td>E</td>\n",
       "      <td>N</td>\n",
       "      <td>T</td>\n",
       "      <td>J</td>\n",
       "      <td>fire anoth silli misconcept approach logic go ...</td>\n",
       "    </tr>\n",
       "  </tbody>\n",
       "</table>\n",
       "</div>"
      ],
      "text/plain": [
       "   type                                              posts target_ie  \\\n",
       "0  INFJ  'http://www.youtube.com/watch?v=qsXHcwe3krw|||...         I   \n",
       "1  ENTP  'I'm finding the lack of me in these posts ver...         E   \n",
       "2  INTP  'Good one  _____   https://www.youtube.com/wat...         I   \n",
       "3  INTJ  'Dear INTP,   I enjoyed our conversation the o...         I   \n",
       "4  ENTJ  'You're fired.|||That's another silly misconce...         E   \n",
       "\n",
       "  target_sn target_tf target_jp  \\\n",
       "0         N         F         J   \n",
       "1         N         T         P   \n",
       "2         N         T         P   \n",
       "3         N         T         J   \n",
       "4         N         T         J   \n",
       "\n",
       "                                       posts_preproc  \n",
       "0  http www youtub com watch v qsxhcwe3krw http 4...  \n",
       "1  find lack post alarm sex bore posit often exam...  \n",
       "2  good one http www youtub com watch v fhigbolff...  \n",
       "3  dear intp enjoy convers day esoter gab natur u...  \n",
       "4  fire anoth silli misconcept approach logic go ...  "
      ]
     },
     "execution_count": 8,
     "metadata": {},
     "output_type": "execute_result"
    }
   ],
   "source": [
    "df.head()"
   ]
  },
  {
   "cell_type": "markdown",
   "metadata": {},
   "source": [
    "## Vectorization"
   ]
  },
  {
   "cell_type": "code",
   "execution_count": 9,
   "metadata": {},
   "outputs": [],
   "source": [
    "c_vectorizer = CountVectorizer()\n",
    "ti_vectorizer = TfidfVectorizer()"
   ]
  },
  {
   "cell_type": "code",
   "execution_count": 10,
   "metadata": {},
   "outputs": [],
   "source": [
    "c_X = c_vectorizer.fit_transform(df['posts_preproc'])\n",
    "ti_X = ti_vectorizer.fit_transform(df['posts_preproc'])"
   ]
  },
  {
   "cell_type": "markdown",
   "metadata": {},
   "source": [
    "## Prediction"
   ]
  },
  {
   "cell_type": "markdown",
   "metadata": {},
   "source": [
    " ### Target I/E"
   ]
  },
  {
   "cell_type": "code",
   "execution_count": 11,
   "metadata": {},
   "outputs": [],
   "source": [
    "c_X_train, c_X_test, c_y_train, c_y_test = train_test_split(c_X, df['target_ie'], test_size=0.2, random_state=14)\n",
    "ti_X_train, ti_X_test, ti_y_train, ti_y_test = train_test_split(ti_X, df['target_ie'], test_size=0.2, random_state=14)"
   ]
  },
  {
   "cell_type": "markdown",
   "metadata": {},
   "source": [
    "**Configuration 1:** CountVectorizer + LinearSVC"
   ]
  },
  {
   "cell_type": "code",
   "execution_count": 12,
   "metadata": {},
   "outputs": [
    {
     "name": "stdout",
     "output_type": "stream",
     "text": [
      "              precision    recall  f1-score   support\n",
      "\n",
      "           E       0.58      0.58      0.58       379\n",
      "           I       0.88      0.88      0.88      1356\n",
      "\n",
      "    accuracy                           0.82      1735\n",
      "   macro avg       0.73      0.73      0.73      1735\n",
      "weighted avg       0.82      0.82      0.82      1735\n",
      "\n"
     ]
    },
    {
     "name": "stderr",
     "output_type": "stream",
     "text": [
      "c:\\users\\anthony\\documents\\machine-learning\\mbti-prediction\\dev-env\\lib\\site-packages\\sklearn\\svm\\_base.py:976: ConvergenceWarning: Liblinear failed to converge, increase the number of iterations.\n",
      "  warnings.warn(\"Liblinear failed to converge, increase \"\n"
     ]
    }
   ],
   "source": [
    "c_clf = LinearSVC(max_iter=1000, random_state=14)\n",
    "c_clf.fit(c_X_train, c_y_train)\n",
    "c_y_pred = c_clf.predict(c_X_test)\n",
    "print(classification_report(c_y_test, c_y_pred))"
   ]
  },
  {
   "cell_type": "markdown",
   "metadata": {},
   "source": [
    "**Configuration 2:** TfidfVectorizer + LinearSVC"
   ]
  },
  {
   "cell_type": "code",
   "execution_count": 13,
   "metadata": {},
   "outputs": [
    {
     "name": "stdout",
     "output_type": "stream",
     "text": [
      "              precision    recall  f1-score   support\n",
      "\n",
      "           E       0.75      0.56      0.64       379\n",
      "           I       0.88      0.95      0.92      1356\n",
      "\n",
      "    accuracy                           0.86      1735\n",
      "   macro avg       0.82      0.75      0.78      1735\n",
      "weighted avg       0.86      0.86      0.86      1735\n",
      "\n"
     ]
    }
   ],
   "source": [
    "ti_clf = LinearSVC(random_state=14)\n",
    "ti_clf.fit(ti_X_train, ti_y_train)\n",
    "ti_y_pred = ti_clf.predict(ti_X_test)\n",
    "print(classification_report(ti_y_test, ti_y_pred))"
   ]
  },
  {
   "cell_type": "code",
   "execution_count": null,
   "metadata": {},
   "outputs": [],
   "source": []
  },
  {
   "cell_type": "markdown",
   "metadata": {},
   "source": [
    " ### Target S/N"
   ]
  },
  {
   "cell_type": "code",
   "execution_count": 14,
   "metadata": {},
   "outputs": [],
   "source": [
    "c_X_train, c_X_test, c_y_train, c_y_test = train_test_split(c_X, df['target_sn'], test_size=0.2, random_state=14)\n",
    "ti_X_train, ti_X_test, ti_y_train, ti_y_test = train_test_split(ti_X, df['target_sn'], test_size=0.2, random_state=14)"
   ]
  },
  {
   "cell_type": "markdown",
   "metadata": {},
   "source": [
    "**Configuration 1:** CountVectorizer + LinearSVC"
   ]
  },
  {
   "cell_type": "code",
   "execution_count": 15,
   "metadata": {},
   "outputs": [
    {
     "name": "stdout",
     "output_type": "stream",
     "text": [
      "              precision    recall  f1-score   support\n",
      "\n",
      "           N       0.94      0.93      0.93      1516\n",
      "           S       0.54      0.55      0.55       219\n",
      "\n",
      "    accuracy                           0.88      1735\n",
      "   macro avg       0.74      0.74      0.74      1735\n",
      "weighted avg       0.89      0.88      0.89      1735\n",
      "\n"
     ]
    }
   ],
   "source": [
    "c_clf = LinearSVC(max_iter=1000, random_state=14)\n",
    "c_clf.fit(c_X_train, c_y_train)\n",
    "c_y_pred = c_clf.predict(c_X_test)\n",
    "print(classification_report(c_y_test, c_y_pred))"
   ]
  },
  {
   "cell_type": "markdown",
   "metadata": {},
   "source": [
    "**Configuration 2:** TfidfVectorizer + LinearSVC"
   ]
  },
  {
   "cell_type": "code",
   "execution_count": 16,
   "metadata": {},
   "outputs": [
    {
     "name": "stdout",
     "output_type": "stream",
     "text": [
      "              precision    recall  f1-score   support\n",
      "\n",
      "           N       0.93      0.98      0.95      1516\n",
      "           S       0.79      0.45      0.58       219\n",
      "\n",
      "    accuracy                           0.92      1735\n",
      "   macro avg       0.86      0.72      0.76      1735\n",
      "weighted avg       0.91      0.92      0.91      1735\n",
      "\n"
     ]
    }
   ],
   "source": [
    "ti_clf = LinearSVC(random_state=14)\n",
    "ti_clf.fit(ti_X_train, ti_y_train)\n",
    "ti_y_pred = ti_clf.predict(ti_X_test)\n",
    "print(classification_report(ti_y_test, ti_y_pred))"
   ]
  },
  {
   "cell_type": "code",
   "execution_count": null,
   "metadata": {},
   "outputs": [],
   "source": []
  },
  {
   "cell_type": "markdown",
   "metadata": {},
   "source": [
    " ### Target T/F"
   ]
  },
  {
   "cell_type": "code",
   "execution_count": 17,
   "metadata": {},
   "outputs": [],
   "source": [
    "c_X_train, c_X_test, c_y_train, c_y_test = train_test_split(c_X, df['target_tf'], test_size=0.2, random_state=14)\n",
    "ti_X_train, ti_X_test, ti_y_train, ti_y_test = train_test_split(ti_X, df['target_tf'], test_size=0.2, random_state=14)"
   ]
  },
  {
   "cell_type": "markdown",
   "metadata": {},
   "source": [
    "**Configuration 1:** CountVectorizer + LinearSVC"
   ]
  },
  {
   "cell_type": "code",
   "execution_count": 18,
   "metadata": {},
   "outputs": [
    {
     "name": "stdout",
     "output_type": "stream",
     "text": [
      "              precision    recall  f1-score   support\n",
      "\n",
      "           F       0.84      0.82      0.83       920\n",
      "           T       0.81      0.82      0.82       815\n",
      "\n",
      "    accuracy                           0.82      1735\n",
      "   macro avg       0.82      0.82      0.82      1735\n",
      "weighted avg       0.82      0.82      0.82      1735\n",
      "\n"
     ]
    }
   ],
   "source": [
    "c_clf = LinearSVC(max_iter=1000, random_state=14)\n",
    "c_clf.fit(c_X_train, c_y_train)\n",
    "c_y_pred = c_clf.predict(c_X_test)\n",
    "print(classification_report(c_y_test, c_y_pred))"
   ]
  },
  {
   "cell_type": "markdown",
   "metadata": {},
   "source": [
    "**Configuration 2:** TfidfVectorizer + LinearSVC"
   ]
  },
  {
   "cell_type": "code",
   "execution_count": 19,
   "metadata": {},
   "outputs": [
    {
     "name": "stdout",
     "output_type": "stream",
     "text": [
      "              precision    recall  f1-score   support\n",
      "\n",
      "           F       0.88      0.87      0.87       920\n",
      "           T       0.85      0.86      0.86       815\n",
      "\n",
      "    accuracy                           0.87      1735\n",
      "   macro avg       0.86      0.86      0.86      1735\n",
      "weighted avg       0.87      0.87      0.87      1735\n",
      "\n"
     ]
    }
   ],
   "source": [
    "ti_clf = LinearSVC(random_state=14)\n",
    "ti_clf.fit(ti_X_train, ti_y_train)\n",
    "ti_y_pred = ti_clf.predict(ti_X_test)\n",
    "print(classification_report(ti_y_test, ti_y_pred))"
   ]
  },
  {
   "cell_type": "code",
   "execution_count": null,
   "metadata": {},
   "outputs": [],
   "source": []
  },
  {
   "cell_type": "markdown",
   "metadata": {},
   "source": [
    " ### Target J/P"
   ]
  },
  {
   "cell_type": "code",
   "execution_count": 20,
   "metadata": {},
   "outputs": [],
   "source": [
    "c_X_train, c_X_test, c_y_train, c_y_test = train_test_split(c_X, df['target_jp'], test_size=0.2, random_state=14)\n",
    "ti_X_train, ti_X_test, ti_y_train, ti_y_test = train_test_split(ti_X, df['target_jp'], test_size=0.2, random_state=14)"
   ]
  },
  {
   "cell_type": "markdown",
   "metadata": {},
   "source": [
    "**Configuration 1:** CountVectorizer + LinearSVC"
   ]
  },
  {
   "cell_type": "code",
   "execution_count": 21,
   "metadata": {},
   "outputs": [
    {
     "name": "stdout",
     "output_type": "stream",
     "text": [
      "              precision    recall  f1-score   support\n",
      "\n",
      "           J       0.67      0.67      0.67       670\n",
      "           P       0.79      0.79      0.79      1065\n",
      "\n",
      "    accuracy                           0.75      1735\n",
      "   macro avg       0.73      0.73      0.73      1735\n",
      "weighted avg       0.75      0.75      0.75      1735\n",
      "\n"
     ]
    }
   ],
   "source": [
    "c_clf = LinearSVC(max_iter=1000, random_state=14)\n",
    "c_clf.fit(c_X_train, c_y_train)\n",
    "c_y_pred = c_clf.predict(c_X_test)\n",
    "print(classification_report(c_y_test, c_y_pred))"
   ]
  },
  {
   "cell_type": "markdown",
   "metadata": {},
   "source": [
    "**Configuration 2:** TfidfVectorizer + LinearSVC"
   ]
  },
  {
   "cell_type": "code",
   "execution_count": 22,
   "metadata": {},
   "outputs": [
    {
     "name": "stdout",
     "output_type": "stream",
     "text": [
      "              precision    recall  f1-score   support\n",
      "\n",
      "           J       0.78      0.69      0.73       670\n",
      "           P       0.82      0.88      0.85      1065\n",
      "\n",
      "    accuracy                           0.80      1735\n",
      "   macro avg       0.80      0.78      0.79      1735\n",
      "weighted avg       0.80      0.80      0.80      1735\n",
      "\n"
     ]
    }
   ],
   "source": [
    "ti_clf = LinearSVC(random_state=14)\n",
    "ti_clf.fit(ti_X_train, ti_y_train)\n",
    "ti_y_pred = ti_clf.predict(ti_X_test)\n",
    "print(classification_report(ti_y_test, ti_y_pred))"
   ]
  },
  {
   "cell_type": "code",
   "execution_count": null,
   "metadata": {},
   "outputs": [],
   "source": []
  }
 ],
 "metadata": {
  "kernelspec": {
   "display_name": "Python 3",
   "language": "python",
   "name": "python3"
  },
  "language_info": {
   "codemirror_mode": {
    "name": "ipython",
    "version": 3
   },
   "file_extension": ".py",
   "mimetype": "text/x-python",
   "name": "python",
   "nbconvert_exporter": "python",
   "pygments_lexer": "ipython3",
   "version": "3.8.6"
  }
 },
 "nbformat": 4,
 "nbformat_minor": 4
}
