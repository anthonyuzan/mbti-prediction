{
 "cells": [
  {
   "cell_type": "markdown",
   "metadata": {},
   "source": [
    "# MBTI Prediction - Strategy 2\n",
    "**Objective:** In this notebook, we will train a classification model for each letter's group (I/E, S/N, T/F, J/P) and not only one to directly predict the full MBTI type."
   ]
  },
  {
   "cell_type": "markdown",
   "metadata": {},
   "source": [
    "## Libraries"
   ]
  },
  {
   "cell_type": "code",
   "execution_count": 38,
   "metadata": {},
   "outputs": [],
   "source": [
    "from itertools import islice \n",
    "from joblib import dump, load\n",
    "from matplotlib.lines import Line2D\n",
    "import matplotlib.pyplot as plt\n",
    "from nltk.corpus import stopwords\n",
    "from nltk.stem import PorterStemmer\n",
    "import pandas as pd\n",
    "import re\n",
    "from sklearn.feature_extraction.text import CountVectorizer\n",
    "from sklearn.feature_extraction.text import TfidfVectorizer\n",
    "from sklearn.linear_model import LogisticRegression\n",
    "from sklearn.metrics import classification_report\n",
    "from sklearn.metrics import f1_score\n",
    "from sklearn.model_selection import train_test_split\n",
    "from sklearn.svm import LinearSVC"
   ]
  },
  {
   "cell_type": "markdown",
   "metadata": {},
   "source": [
    "## Data import"
   ]
  },
  {
   "cell_type": "code",
   "execution_count": 8,
   "metadata": {},
   "outputs": [
    {
     "data": {
      "text/html": [
       "<div>\n",
       "<style scoped>\n",
       "    .dataframe tbody tr th:only-of-type {\n",
       "        vertical-align: middle;\n",
       "    }\n",
       "\n",
       "    .dataframe tbody tr th {\n",
       "        vertical-align: top;\n",
       "    }\n",
       "\n",
       "    .dataframe thead th {\n",
       "        text-align: right;\n",
       "    }\n",
       "</style>\n",
       "<table border=\"1\" class=\"dataframe\">\n",
       "  <thead>\n",
       "    <tr style=\"text-align: right;\">\n",
       "      <th></th>\n",
       "      <th>type</th>\n",
       "      <th>posts</th>\n",
       "    </tr>\n",
       "  </thead>\n",
       "  <tbody>\n",
       "    <tr>\n",
       "      <th>0</th>\n",
       "      <td>INFJ</td>\n",
       "      <td>'http://www.youtube.com/watch?v=qsXHcwe3krw|||...</td>\n",
       "    </tr>\n",
       "    <tr>\n",
       "      <th>1</th>\n",
       "      <td>ENTP</td>\n",
       "      <td>'I'm finding the lack of me in these posts ver...</td>\n",
       "    </tr>\n",
       "    <tr>\n",
       "      <th>2</th>\n",
       "      <td>INTP</td>\n",
       "      <td>'Good one  _____   https://www.youtube.com/wat...</td>\n",
       "    </tr>\n",
       "    <tr>\n",
       "      <th>3</th>\n",
       "      <td>INTJ</td>\n",
       "      <td>'Dear INTP,   I enjoyed our conversation the o...</td>\n",
       "    </tr>\n",
       "    <tr>\n",
       "      <th>4</th>\n",
       "      <td>ENTJ</td>\n",
       "      <td>'You're fired.|||That's another silly misconce...</td>\n",
       "    </tr>\n",
       "  </tbody>\n",
       "</table>\n",
       "</div>"
      ],
      "text/plain": [
       "   type                                              posts\n",
       "0  INFJ  'http://www.youtube.com/watch?v=qsXHcwe3krw|||...\n",
       "1  ENTP  'I'm finding the lack of me in these posts ver...\n",
       "2  INTP  'Good one  _____   https://www.youtube.com/wat...\n",
       "3  INTJ  'Dear INTP,   I enjoyed our conversation the o...\n",
       "4  ENTJ  'You're fired.|||That's another silly misconce..."
      ]
     },
     "execution_count": 8,
     "metadata": {},
     "output_type": "execute_result"
    }
   ],
   "source": [
    "df = pd.read_csv('../mbti_data.csv')\n",
    "df.head()"
   ]
  },
  {
   "cell_type": "code",
   "execution_count": 9,
   "metadata": {},
   "outputs": [
    {
     "data": {
      "text/plain": [
       "(8675, 2)"
      ]
     },
     "execution_count": 9,
     "metadata": {},
     "output_type": "execute_result"
    }
   ],
   "source": [
    "df.shape"
   ]
  },
  {
   "cell_type": "markdown",
   "metadata": {},
   "source": [
    "## Data preprocessing"
   ]
  },
  {
   "cell_type": "markdown",
   "metadata": {},
   "source": [
    "Split each line (~50 posts) into subline (10 posts)."
   ]
  },
  {
   "cell_type": "code",
   "execution_count": 10,
   "metadata": {},
   "outputs": [],
   "source": [
    "def dataframe_split(df, n=10):\n",
    "    df_r = pd.DataFrame(columns=['type','posts'])\n",
    "    for i in range(len(df)):\n",
    "        full_list = df.loc[i, 'posts'].split('|||')\n",
    "        sub_list = [full_list[i:i+n] for i in range(0, len(full_list),n)]\n",
    "        for j in sub_list:\n",
    "            df_r = df_r.append({'type': df.loc[i, 'type'], 'posts': ' '.join(j)}, ignore_index=True)\n",
    "    return df_r"
   ]
  },
  {
   "cell_type": "code",
   "execution_count": 11,
   "metadata": {},
   "outputs": [
    {
     "name": "stdout",
     "output_type": "stream",
     "text": [
      "Wall time: 1min 37s\n"
     ]
    }
   ],
   "source": [
    "%%time\n",
    "df = dataframe_split(df)"
   ]
  },
  {
   "cell_type": "code",
   "execution_count": 12,
   "metadata": {},
   "outputs": [
    {
     "data": {
      "text/plain": [
       "(42734, 2)"
      ]
     },
     "execution_count": 12,
     "metadata": {},
     "output_type": "execute_result"
    }
   ],
   "source": [
    "df.shape"
   ]
  },
  {
   "cell_type": "markdown",
   "metadata": {},
   "source": [
    "We prepare our targets. \n",
    "<br>We will have one classifier to predict the \"target_ie\" value, one for \"target_sn\", one for \"target_tf\" and one for \"target_jp\"."
   ]
  },
  {
   "cell_type": "code",
   "execution_count": 13,
   "metadata": {},
   "outputs": [
    {
     "data": {
      "text/html": [
       "<div>\n",
       "<style scoped>\n",
       "    .dataframe tbody tr th:only-of-type {\n",
       "        vertical-align: middle;\n",
       "    }\n",
       "\n",
       "    .dataframe tbody tr th {\n",
       "        vertical-align: top;\n",
       "    }\n",
       "\n",
       "    .dataframe thead th {\n",
       "        text-align: right;\n",
       "    }\n",
       "</style>\n",
       "<table border=\"1\" class=\"dataframe\">\n",
       "  <thead>\n",
       "    <tr style=\"text-align: right;\">\n",
       "      <th></th>\n",
       "      <th>type</th>\n",
       "      <th>posts</th>\n",
       "      <th>target_ie</th>\n",
       "      <th>target_sn</th>\n",
       "      <th>target_tf</th>\n",
       "      <th>target_jp</th>\n",
       "    </tr>\n",
       "  </thead>\n",
       "  <tbody>\n",
       "    <tr>\n",
       "      <th>0</th>\n",
       "      <td>INFJ</td>\n",
       "      <td>'http://www.youtube.com/watch?v=qsXHcwe3krw ht...</td>\n",
       "      <td>I</td>\n",
       "      <td>N</td>\n",
       "      <td>F</td>\n",
       "      <td>J</td>\n",
       "    </tr>\n",
       "    <tr>\n",
       "      <th>1</th>\n",
       "      <td>INFJ</td>\n",
       "      <td>http://playeressence.com/wp-content/uploads/20...</td>\n",
       "      <td>I</td>\n",
       "      <td>N</td>\n",
       "      <td>F</td>\n",
       "      <td>J</td>\n",
       "    </tr>\n",
       "    <tr>\n",
       "      <th>2</th>\n",
       "      <td>INFJ</td>\n",
       "      <td>Yo entp ladies... if you're into a complimenta...</td>\n",
       "      <td>I</td>\n",
       "      <td>N</td>\n",
       "      <td>F</td>\n",
       "      <td>J</td>\n",
       "    </tr>\n",
       "    <tr>\n",
       "      <th>3</th>\n",
       "      <td>INFJ</td>\n",
       "      <td>Banned for watching movies in the corner with ...</td>\n",
       "      <td>I</td>\n",
       "      <td>N</td>\n",
       "      <td>F</td>\n",
       "      <td>J</td>\n",
       "    </tr>\n",
       "    <tr>\n",
       "      <th>4</th>\n",
       "      <td>INFJ</td>\n",
       "      <td>http://www.serebii.net/potw-dp/Scizor.jpg Not ...</td>\n",
       "      <td>I</td>\n",
       "      <td>N</td>\n",
       "      <td>F</td>\n",
       "      <td>J</td>\n",
       "    </tr>\n",
       "  </tbody>\n",
       "</table>\n",
       "</div>"
      ],
      "text/plain": [
       "   type                                              posts target_ie  \\\n",
       "0  INFJ  'http://www.youtube.com/watch?v=qsXHcwe3krw ht...         I   \n",
       "1  INFJ  http://playeressence.com/wp-content/uploads/20...         I   \n",
       "2  INFJ  Yo entp ladies... if you're into a complimenta...         I   \n",
       "3  INFJ  Banned for watching movies in the corner with ...         I   \n",
       "4  INFJ  http://www.serebii.net/potw-dp/Scizor.jpg Not ...         I   \n",
       "\n",
       "  target_sn target_tf target_jp  \n",
       "0         N         F         J  \n",
       "1         N         F         J  \n",
       "2         N         F         J  \n",
       "3         N         F         J  \n",
       "4         N         F         J  "
      ]
     },
     "execution_count": 13,
     "metadata": {},
     "output_type": "execute_result"
    }
   ],
   "source": [
    "df['target_ie'] = df['type'].apply(lambda row: row[0])\n",
    "df['target_sn'] = df['type'].apply(lambda row: row[1])\n",
    "df['target_tf'] = df['type'].apply(lambda row: row[2])\n",
    "df['target_jp'] = df['type'].apply(lambda row: row[3])\n",
    "df.head()"
   ]
  },
  {
   "cell_type": "markdown",
   "metadata": {},
   "source": [
    "Let's see the distribition of the new variables created."
   ]
  },
  {
   "cell_type": "code",
   "execution_count": 14,
   "metadata": {},
   "outputs": [
    {
     "data": {
      "image/png": "[encoded data removed]",
      "text/plain": [
       "<Figure size 576x576 with 4 Axes>"
      ]
     },
     "metadata": {},
     "output_type": "display_data"
    }
   ],
   "source": [
    "ie_dist = df['target_ie'].value_counts().rename_axis('types').reset_index(name='counts')\n",
    "sn_dist = df['target_sn'].value_counts().rename_axis('types').reset_index(name='counts')\n",
    "tf_dist = df['target_tf'].value_counts().rename_axis('types').reset_index(name='counts')\n",
    "jp_dist = df['target_jp'].value_counts().rename_axis('types').reset_index(name='counts')\n",
    "\n",
    "fig, axs = plt.subplots(2, 2, figsize=(8,8))\n",
    "axs[0, 0].pie(ie_dist['counts'], labels=ie_dist['types'], autopct='%1.1f%%')\n",
    "axs[0, 0].set_title('Distribution I/E')\n",
    "axs[0, 1].pie(sn_dist['counts'], labels=sn_dist['types'], autopct='%1.1f%%')\n",
    "axs[0, 1].set_title('Distribution S/N')\n",
    "axs[1, 0].pie(tf_dist['counts'], labels=tf_dist['types'], autopct='%1.1f%%')\n",
    "axs[1, 0].set_title('Distribution T/F')\n",
    "axs[1, 1].pie(jp_dist['counts'], labels=jp_dist['types'], autopct='%1.1f%%')\n",
    "axs[1, 1].set_title('Distribution J/P')\n",
    "plt.show()"
   ]
  },
  {
   "cell_type": "markdown",
   "metadata": {},
   "source": [
    "From an overall point of view, we notice that the classes are unbalanced. We will therefore use the \"F1 score\" metric to measure the performance of our models."
   ]
  },
  {
   "cell_type": "markdown",
   "metadata": {},
   "source": [
    "Let's preprocess the posts."
   ]
  },
  {
   "cell_type": "code",
   "execution_count": 15,
   "metadata": {},
   "outputs": [],
   "source": [
    "stop_words = set(stopwords.words('english'))\n",
    "porter_stemmer = PorterStemmer()\n",
    "\n",
    "def preprocessing(text, stemming_on=False, stop_words=stop_words, porter_stemmer=porter_stemmer):\n",
    "    text = text.lower()                                          # Lowercase\n",
    "    text = re.sub(r'[^a-zA-Z0-9\\s]', ' ', text)                  # Noise removal (regex to remove punctuations)\n",
    "    text = text.strip()                                          # Noise removal (extra spaces)\n",
    "    words = text.split()                                         # Split sentence into list of words\n",
    "    words = [w for w in words if not w in stop_words]            # Stopwords removal\n",
    "    if(stemming_on):\n",
    "        words = [porter_stemmer.stem(word) for word in words]    # Replace the word by its stem\n",
    "    text = ' '.join(words)                                       # Transform list of words to str\n",
    "    return text"
   ]
  },
  {
   "cell_type": "code",
   "execution_count": 16,
   "metadata": {},
   "outputs": [
    {
     "name": "stdout",
     "output_type": "stream",
     "text": [
      "Wall time: 1min 48s\n"
     ]
    }
   ],
   "source": [
    "%%time\n",
    "df['posts_preproc'] = df['posts'].apply(lambda row: preprocessing(row, stemming_on=True))"
   ]
  },
  {
   "cell_type": "code",
   "execution_count": 17,
   "metadata": {},
   "outputs": [
    {
     "data": {
      "text/html": [
       "<div>\n",
       "<style scoped>\n",
       "    .dataframe tbody tr th:only-of-type {\n",
       "        vertical-align: middle;\n",
       "    }\n",
       "\n",
       "    .dataframe tbody tr th {\n",
       "        vertical-align: top;\n",
       "    }\n",
       "\n",
       "    .dataframe thead th {\n",
       "        text-align: right;\n",
       "    }\n",
       "</style>\n",
       "<table border=\"1\" class=\"dataframe\">\n",
       "  <thead>\n",
       "    <tr style=\"text-align: right;\">\n",
       "      <th></th>\n",
       "      <th>type</th>\n",
       "      <th>posts</th>\n",
       "      <th>target_ie</th>\n",
       "      <th>target_sn</th>\n",
       "      <th>target_tf</th>\n",
       "      <th>target_jp</th>\n",
       "      <th>posts_preproc</th>\n",
       "    </tr>\n",
       "  </thead>\n",
       "  <tbody>\n",
       "    <tr>\n",
       "      <th>0</th>\n",
       "      <td>INFJ</td>\n",
       "      <td>'http://www.youtube.com/watch?v=qsXHcwe3krw ht...</td>\n",
       "      <td>I</td>\n",
       "      <td>N</td>\n",
       "      <td>F</td>\n",
       "      <td>J</td>\n",
       "      <td>http www youtub com watch v qsxhcwe3krw http 4...</td>\n",
       "    </tr>\n",
       "    <tr>\n",
       "      <th>1</th>\n",
       "      <td>INFJ</td>\n",
       "      <td>http://playeressence.com/wp-content/uploads/20...</td>\n",
       "      <td>I</td>\n",
       "      <td>N</td>\n",
       "      <td>F</td>\n",
       "      <td>J</td>\n",
       "      <td>http playeress com wp content upload 2013 08 r...</td>\n",
       "    </tr>\n",
       "    <tr>\n",
       "      <th>2</th>\n",
       "      <td>INFJ</td>\n",
       "      <td>Yo entp ladies... if you're into a complimenta...</td>\n",
       "      <td>I</td>\n",
       "      <td>N</td>\n",
       "      <td>F</td>\n",
       "      <td>J</td>\n",
       "      <td>yo entp ladi complimentari person well hey mai...</td>\n",
       "    </tr>\n",
       "    <tr>\n",
       "      <th>3</th>\n",
       "      <td>INFJ</td>\n",
       "      <td>Banned for watching movies in the corner with ...</td>\n",
       "      <td>I</td>\n",
       "      <td>N</td>\n",
       "      <td>F</td>\n",
       "      <td>J</td>\n",
       "      <td>ban watch movi corner dunc ban health class cl...</td>\n",
       "    </tr>\n",
       "    <tr>\n",
       "      <th>4</th>\n",
       "      <td>INFJ</td>\n",
       "      <td>http://www.serebii.net/potw-dp/Scizor.jpg Not ...</td>\n",
       "      <td>I</td>\n",
       "      <td>N</td>\n",
       "      <td>F</td>\n",
       "      <td>J</td>\n",
       "      <td>http www serebii net potw dp scizor jpg artist...</td>\n",
       "    </tr>\n",
       "  </tbody>\n",
       "</table>\n",
       "</div>"
      ],
      "text/plain": [
       "   type                                              posts target_ie  \\\n",
       "0  INFJ  'http://www.youtube.com/watch?v=qsXHcwe3krw ht...         I   \n",
       "1  INFJ  http://playeressence.com/wp-content/uploads/20...         I   \n",
       "2  INFJ  Yo entp ladies... if you're into a complimenta...         I   \n",
       "3  INFJ  Banned for watching movies in the corner with ...         I   \n",
       "4  INFJ  http://www.serebii.net/potw-dp/Scizor.jpg Not ...         I   \n",
       "\n",
       "  target_sn target_tf target_jp  \\\n",
       "0         N         F         J   \n",
       "1         N         F         J   \n",
       "2         N         F         J   \n",
       "3         N         F         J   \n",
       "4         N         F         J   \n",
       "\n",
       "                                       posts_preproc  \n",
       "0  http www youtub com watch v qsxhcwe3krw http 4...  \n",
       "1  http playeress com wp content upload 2013 08 r...  \n",
       "2  yo entp ladi complimentari person well hey mai...  \n",
       "3  ban watch movi corner dunc ban health class cl...  \n",
       "4  http www serebii net potw dp scizor jpg artist...  "
      ]
     },
     "execution_count": 17,
     "metadata": {},
     "output_type": "execute_result"
    }
   ],
   "source": [
    "df.head()"
   ]
  },
  {
   "cell_type": "markdown",
   "metadata": {},
   "source": [
    "## Analysis - Best configuration"
   ]
  },
  {
   "cell_type": "markdown",
   "metadata": {},
   "source": [
    "**Vectorization**"
   ]
  },
  {
   "cell_type": "code",
   "execution_count": 18,
   "metadata": {},
   "outputs": [],
   "source": [
    "c_vectorizer = CountVectorizer()\n",
    "ti_vectorizer = TfidfVectorizer()\n",
    "\n",
    "c_X = c_vectorizer.fit_transform(df['posts_preproc'])\n",
    "ti_X = ti_vectorizer.fit_transform(df['posts_preproc'])"
   ]
  },
  {
   "cell_type": "markdown",
   "metadata": {},
   "source": [
    "**Training**"
   ]
  },
  {
   "cell_type": "code",
   "execution_count": 63,
   "metadata": {},
   "outputs": [],
   "source": [
    "config = {\n",
    "    'data_vect': {\n",
    "        'CountVectorizer': c_X,\n",
    "        'TfidfVectorizer': ti_X\n",
    "    },\n",
    "    'classifier': {\n",
    "        'LinearSVC': LinearSVC(class_weight='balanced', random_state=14, max_iter=50000), \n",
    "        'LogisticRegression': LogisticRegression(class_weight='balanced', random_state=14, max_iter=50000)\n",
    "    }\n",
    "}"
   ]
  },
  {
   "cell_type": "code",
   "execution_count": 64,
   "metadata": {},
   "outputs": [],
   "source": [
    "global_perf_trainings = {\n",
    "    'target_ie': [],\n",
    "    'target_sn': [],\n",
    "    'target_tf': [],\n",
    "    'target_jp': []\n",
    "}"
   ]
  },
  {
   "cell_type": "code",
   "execution_count": 65,
   "metadata": {},
   "outputs": [],
   "source": [
    "def training_analysis(df, config, target, random_state):\n",
    "    perf_trainings = []\n",
    "    for vectorizer in config['data_vect']:\n",
    "        X_train, X_test, y_train, y_test = train_test_split(config['data_vect'][vectorizer], df[target], test_size=0.2, random_state=random_state)\n",
    "        for classifier in config['classifier']:\n",
    "            clf = config['classifier'][classifier]\n",
    "            clf.fit(X_train, y_train)\n",
    "            print(f'{vectorizer} | {classifier}:')\n",
    "            print(f'_________________________\\n')\n",
    "            y_pred = config['classifier'][classifier].predict(X_test)\n",
    "            perf_trainings.append(f1_score(y_test, y_pred, average='macro'))\n",
    "            print(f'{classification_report(y_test, y_pred)}\\n')\n",
    "            print(f'--------------------------------------------------------------\\n')\n",
    "    global_perf_trainings[target] = perf_trainings"
   ]
  },
  {
   "cell_type": "markdown",
   "metadata": {},
   "source": [
    "*Target I/E*"
   ]
  },
  {
   "cell_type": "code",
   "execution_count": 66,
   "metadata": {},
   "outputs": [
    {
     "name": "stdout",
     "output_type": "stream",
     "text": [
      "CountVectorizer | LinearSVC:\n",
      "_________________________\n",
      "\n",
      "              precision    recall  f1-score   support\n",
      "\n",
      "           E       0.40      0.46      0.43      1915\n",
      "           I       0.84      0.80      0.82      6632\n",
      "\n",
      "    accuracy                           0.72      8547\n",
      "   macro avg       0.62      0.63      0.62      8547\n",
      "weighted avg       0.74      0.72      0.73      8547\n",
      "\n",
      "\n",
      "--------------------------------------------------------------\n",
      "\n",
      "CountVectorizer | LogisticRegression:\n",
      "_________________________\n",
      "\n",
      "              precision    recall  f1-score   support\n",
      "\n",
      "           E       0.44      0.52      0.48      1915\n",
      "           I       0.85      0.81      0.83      6632\n",
      "\n",
      "    accuracy                           0.74      8547\n",
      "   macro avg       0.65      0.66      0.65      8547\n",
      "weighted avg       0.76      0.74      0.75      8547\n",
      "\n",
      "\n",
      "--------------------------------------------------------------\n",
      "\n",
      "TfidfVectorizer | LinearSVC:\n",
      "_________________________\n",
      "\n",
      "              precision    recall  f1-score   support\n",
      "\n",
      "           E       0.47      0.56      0.51      1915\n",
      "           I       0.87      0.82      0.84      6632\n",
      "\n",
      "    accuracy                           0.76      8547\n",
      "   macro avg       0.67      0.69      0.68      8547\n",
      "weighted avg       0.78      0.76      0.77      8547\n",
      "\n",
      "\n",
      "--------------------------------------------------------------\n",
      "\n",
      "TfidfVectorizer | LogisticRegression:\n",
      "_________________________\n",
      "\n",
      "              precision    recall  f1-score   support\n",
      "\n",
      "           E       0.49      0.65      0.56      1915\n",
      "           I       0.89      0.80      0.84      6632\n",
      "\n",
      "    accuracy                           0.77      8547\n",
      "   macro avg       0.69      0.72      0.70      8547\n",
      "weighted avg       0.80      0.77      0.78      8547\n",
      "\n",
      "\n",
      "--------------------------------------------------------------\n",
      "\n",
      "Wall time: 1min 36s\n"
     ]
    }
   ],
   "source": [
    "%%time\n",
    "training_analysis(df, config, 'target_ie', 14)"
   ]
  },
  {
   "cell_type": "markdown",
   "metadata": {},
   "source": [
    "*Target S/N*"
   ]
  },
  {
   "cell_type": "code",
   "execution_count": 67,
   "metadata": {},
   "outputs": [
    {
     "name": "stdout",
     "output_type": "stream",
     "text": [
      "CountVectorizer | LinearSVC:\n",
      "_________________________\n",
      "\n",
      "              precision    recall  f1-score   support\n",
      "\n",
      "           N       0.90      0.88      0.89      7395\n",
      "           S       0.33      0.38      0.36      1152\n",
      "\n",
      "    accuracy                           0.81      8547\n",
      "   macro avg       0.62      0.63      0.62      8547\n",
      "weighted avg       0.82      0.81      0.82      8547\n",
      "\n",
      "\n",
      "--------------------------------------------------------------\n",
      "\n",
      "CountVectorizer | LogisticRegression:\n",
      "_________________________\n",
      "\n",
      "              precision    recall  f1-score   support\n",
      "\n",
      "           N       0.91      0.88      0.89      7395\n",
      "           S       0.36      0.46      0.40      1152\n",
      "\n",
      "    accuracy                           0.82      8547\n",
      "   macro avg       0.64      0.67      0.65      8547\n",
      "weighted avg       0.84      0.82      0.83      8547\n",
      "\n",
      "\n",
      "--------------------------------------------------------------\n",
      "\n",
      "TfidfVectorizer | LinearSVC:\n",
      "_________________________\n",
      "\n",
      "              precision    recall  f1-score   support\n",
      "\n",
      "           N       0.92      0.88      0.90      7395\n",
      "           S       0.39      0.49      0.43      1152\n",
      "\n",
      "    accuracy                           0.83      8547\n",
      "   macro avg       0.65      0.69      0.67      8547\n",
      "weighted avg       0.85      0.83      0.83      8547\n",
      "\n",
      "\n",
      "--------------------------------------------------------------\n",
      "\n",
      "TfidfVectorizer | LogisticRegression:\n",
      "_________________________\n",
      "\n",
      "              precision    recall  f1-score   support\n",
      "\n",
      "           N       0.93      0.84      0.88      7395\n",
      "           S       0.37      0.61      0.46      1152\n",
      "\n",
      "    accuracy                           0.81      8547\n",
      "   macro avg       0.65      0.72      0.67      8547\n",
      "weighted avg       0.86      0.81      0.83      8547\n",
      "\n",
      "\n",
      "--------------------------------------------------------------\n",
      "\n",
      "Wall time: 1min 22s\n"
     ]
    }
   ],
   "source": [
    "%%time\n",
    "training_analysis(df, config, 'target_sn', 14)"
   ]
  },
  {
   "cell_type": "markdown",
   "metadata": {},
   "source": [
    "*Target T/F*"
   ]
  },
  {
   "cell_type": "code",
   "execution_count": 68,
   "metadata": {},
   "outputs": [
    {
     "name": "stdout",
     "output_type": "stream",
     "text": [
      "CountVectorizer | LinearSVC:\n",
      "_________________________\n",
      "\n",
      "              precision    recall  f1-score   support\n",
      "\n",
      "           F       0.71      0.71      0.71      4628\n",
      "           T       0.66      0.66      0.66      3919\n",
      "\n",
      "    accuracy                           0.69      8547\n",
      "   macro avg       0.69      0.69      0.69      8547\n",
      "weighted avg       0.69      0.69      0.69      8547\n",
      "\n",
      "\n",
      "--------------------------------------------------------------\n",
      "\n",
      "CountVectorizer | LogisticRegression:\n",
      "_________________________\n",
      "\n",
      "              precision    recall  f1-score   support\n",
      "\n",
      "           F       0.75      0.74      0.74      4628\n",
      "           T       0.70      0.70      0.70      3919\n",
      "\n",
      "    accuracy                           0.72      8547\n",
      "   macro avg       0.72      0.72      0.72      8547\n",
      "weighted avg       0.72      0.72      0.72      8547\n",
      "\n",
      "\n",
      "--------------------------------------------------------------\n",
      "\n",
      "TfidfVectorizer | LinearSVC:\n",
      "_________________________\n",
      "\n",
      "              precision    recall  f1-score   support\n",
      "\n",
      "           F       0.77      0.76      0.76      4628\n",
      "           T       0.72      0.73      0.72      3919\n",
      "\n",
      "    accuracy                           0.75      8547\n",
      "   macro avg       0.74      0.74      0.74      8547\n",
      "weighted avg       0.75      0.75      0.75      8547\n",
      "\n",
      "\n",
      "--------------------------------------------------------------\n",
      "\n",
      "TfidfVectorizer | LogisticRegression:\n",
      "_________________________\n",
      "\n",
      "              precision    recall  f1-score   support\n",
      "\n",
      "           F       0.80      0.77      0.79      4628\n",
      "           T       0.74      0.78      0.76      3919\n",
      "\n",
      "    accuracy                           0.77      8547\n",
      "   macro avg       0.77      0.77      0.77      8547\n",
      "weighted avg       0.78      0.77      0.77      8547\n",
      "\n",
      "\n",
      "--------------------------------------------------------------\n",
      "\n",
      "Wall time: 1min 58s\n"
     ]
    }
   ],
   "source": [
    "%%time\n",
    "training_analysis(df, config, 'target_tf', 14)"
   ]
  },
  {
   "cell_type": "markdown",
   "metadata": {},
   "source": [
    "*Target J/P*"
   ]
  },
  {
   "cell_type": "code",
   "execution_count": 69,
   "metadata": {},
   "outputs": [
    {
     "name": "stdout",
     "output_type": "stream",
     "text": [
      "CountVectorizer | LinearSVC:\n",
      "_________________________\n",
      "\n",
      "              precision    recall  f1-score   support\n",
      "\n",
      "           J       0.54      0.55      0.55      3380\n",
      "           P       0.70      0.70      0.70      5167\n",
      "\n",
      "    accuracy                           0.64      8547\n",
      "   macro avg       0.62      0.62      0.62      8547\n",
      "weighted avg       0.64      0.64      0.64      8547\n",
      "\n",
      "\n",
      "--------------------------------------------------------------\n",
      "\n",
      "CountVectorizer | LogisticRegression:\n",
      "_________________________\n",
      "\n",
      "              precision    recall  f1-score   support\n",
      "\n",
      "           J       0.57      0.59      0.58      3380\n",
      "           P       0.73      0.71      0.72      5167\n",
      "\n",
      "    accuracy                           0.67      8547\n",
      "   macro avg       0.65      0.65      0.65      8547\n",
      "weighted avg       0.67      0.67      0.67      8547\n",
      "\n",
      "\n",
      "--------------------------------------------------------------\n",
      "\n",
      "TfidfVectorizer | LinearSVC:\n",
      "_________________________\n",
      "\n",
      "              precision    recall  f1-score   support\n",
      "\n",
      "           J       0.60      0.62      0.61      3380\n",
      "           P       0.74      0.72      0.73      5167\n",
      "\n",
      "    accuracy                           0.68      8547\n",
      "   macro avg       0.67      0.67      0.67      8547\n",
      "weighted avg       0.69      0.68      0.68      8547\n",
      "\n",
      "\n",
      "--------------------------------------------------------------\n",
      "\n",
      "TfidfVectorizer | LogisticRegression:\n",
      "_________________________\n",
      "\n",
      "              precision    recall  f1-score   support\n",
      "\n",
      "           J       0.62      0.67      0.64      3380\n",
      "           P       0.77      0.73      0.75      5167\n",
      "\n",
      "    accuracy                           0.71      8547\n",
      "   macro avg       0.69      0.70      0.70      8547\n",
      "weighted avg       0.71      0.71      0.71      8547\n",
      "\n",
      "\n",
      "--------------------------------------------------------------\n",
      "\n",
      "Wall time: 2min 12s\n"
     ]
    }
   ],
   "source": [
    "%%time\n",
    "training_analysis(df, config, 'target_jp', 14)"
   ]
  },
  {
   "cell_type": "markdown",
   "metadata": {},
   "source": [
    "**Results visualisation**"
   ]
  },
  {
   "cell_type": "code",
   "execution_count": 86,
   "metadata": {},
   "outputs": [],
   "source": [
    "config_str = ['LinearSVC', 'LogisticRegression', 'LinearSVC', 'LogisticRegression']\n",
    "bar_color = ['tomato', 'tomato', 'dodgerblue', 'dodgerblue']\n",
    "custom_legend = [Line2D([0], [0], color='tomato', lw=4), Line2D([0], [0], color='dodgerblue', lw=4)]\n",
    "\n",
    "def bar_value(y):\n",
    "    for index, value in enumerate(y):\n",
    "        plt.text(value, index, str(value))"
   ]
  },
  {
   "cell_type": "code",
   "execution_count": 92,
   "metadata": {},
   "outputs": [
    {
     "data": {
      "image/png": "[encoded data removed]",
      "text/plain": [
       "<Figure size 1440x1080 with 4 Axes>"
      ]
     },
     "metadata": {
      "needs_background": "light"
     },
     "output_type": "display_data"
    }
   ],
   "source": [
    "fig, axs = plt.subplots(2, 2, figsize=(20,15))\n",
    "\n",
    "axs[0, 0].bar(range(len(global_perf_trainings['target_ie'])), global_perf_trainings['target_ie'], color=bar_color)\n",
    "axs[0, 0].set_xticks(range(len(config_str)))\n",
    "axs[0, 0].set_xticklabels(config_str, rotation=66)\n",
    "axs[0, 0].set_xlabel('Config')\n",
    "axs[0, 0].set_ylabel('F1 score')\n",
    "axs[0, 0].set_title('Target I/E')\n",
    "axs[0, 0].legend(custom_legend, ['Count', 'Tfidf'])\n",
    "\n",
    "axs[0, 1].bar(range(len(global_perf_trainings['target_sn'])), global_perf_trainings['target_sn'], color=bar_color)\n",
    "axs[0, 1].set_xticks(range(len(config_str)))\n",
    "axs[0, 1].set_xticklabels(config_str, rotation=66)\n",
    "axs[0, 1].set_xlabel('Config')\n",
    "axs[0, 1].set_ylabel('F1 score')\n",
    "axs[0, 1].set_title('Target S/N')\n",
    "axs[0, 1].legend(custom_legend, ['Count', 'Tfidf'])\n",
    "\n",
    "axs[1, 0].bar(range(len(global_perf_trainings['target_tf'])), global_perf_trainings['target_tf'], color=bar_color)\n",
    "axs[1, 0].set_xticks(range(len(config_str)))\n",
    "axs[1, 0].set_xticklabels(config_str, rotation=66)\n",
    "axs[1, 0].set_xlabel('Config')\n",
    "axs[1, 0].set_ylabel('F1 score')\n",
    "axs[1, 0].set_title('Target T/F')\n",
    "axs[1, 0].legend(custom_legend, ['Count', 'Tfidf'])\n",
    "\n",
    "axs[1, 1].bar(range(len(global_perf_trainings['target_jp'])), global_perf_trainings['target_jp'], color=bar_color)\n",
    "axs[1, 1].set_xticks(range(len(config_str)))\n",
    "axs[1, 1].set_xticklabels(config_str, rotation=66)\n",
    "axs[1, 1].set_xlabel('Config')\n",
    "axs[1, 1].set_ylabel('F1 score')\n",
    "axs[1, 1].set_title('Target J/P')\n",
    "axs[1, 1].legend(custom_legend, ['Count', 'Tfidf'])\n",
    "\n",
    "fig.tight_layout(pad=5)\n",
    "\n",
    "plt.show()"
   ]
  },
  {
   "cell_type": "markdown",
   "metadata": {},
   "source": [
    "**Analysis conclusion**"
   ]
  },
  {
   "cell_type": "markdown",
   "metadata": {},
   "source": [
    "We select the following configurations:\n",
    "\n",
    "| Target | Vectorization |     Classifier     |\n",
    "|:------:|:-------------:|:------------------:|\n",
    "|   I/E  |     Tfidf     | LogisticRegression |\n",
    "|   S/N  |     Tfidf     | LogisticRegression |\n",
    "|   T/F  |     Tfidf     | LogisticRegression |\n",
    "|   J/P  |     Tfidf     | LogisticRegression |"
   ]
  },
  {
   "cell_type": "markdown",
   "metadata": {},
   "source": [
    "## Training"
   ]
  },
  {
   "cell_type": "markdown",
   "metadata": {},
   "source": [
    "**Vectorization**"
   ]
  },
  {
   "cell_type": "code",
   "execution_count": 73,
   "metadata": {},
   "outputs": [
    {
     "data": {
      "text/plain": [
       "['../vectorizers/tfidf.joblib']"
      ]
     },
     "execution_count": 73,
     "metadata": {},
     "output_type": "execute_result"
    }
   ],
   "source": [
    "vectorizer = TfidfVectorizer()\n",
    "tfidf = vectorizer.fit(df['posts_preproc'])\n",
    "X = vectorizer.transform(df['posts_preproc'])\n",
    "\n",
    "dump(tfidf, '../vectorizers/tfidf.joblib')      # We save the vectorizer"
   ]
  },
  {
   "cell_type": "markdown",
   "metadata": {},
   "source": [
    "**Target I/E**"
   ]
  },
  {
   "cell_type": "code",
   "execution_count": 75,
   "metadata": {},
   "outputs": [
    {
     "data": {
      "text/plain": [
       "['../models/model_ie.joblib']"
      ]
     },
     "execution_count": 75,
     "metadata": {},
     "output_type": "execute_result"
    }
   ],
   "source": [
    "y = df['target_ie']\n",
    "\n",
    "classifier = LogisticRegression(class_weight='balanced', random_state=14, max_iter=50000)\n",
    "classifier.fit(X, y)\n",
    "\n",
    "dump(classifier, '../models/model_ie.joblib')    # We save the model"
   ]
  },
  {
   "cell_type": "markdown",
   "metadata": {},
   "source": [
    " **Target S/N**"
   ]
  },
  {
   "cell_type": "code",
   "execution_count": 76,
   "metadata": {},
   "outputs": [
    {
     "data": {
      "text/plain": [
       "['../models/model_sn.joblib']"
      ]
     },
     "execution_count": 76,
     "metadata": {},
     "output_type": "execute_result"
    }
   ],
   "source": [
    "y = df['target_sn']\n",
    "\n",
    "classifier = LogisticRegression(class_weight='balanced', random_state=14, max_iter=50000)\n",
    "classifier.fit(X, y)\n",
    "\n",
    "dump(classifier, '../models/model_sn.joblib')    # We save the model"
   ]
  },
  {
   "cell_type": "markdown",
   "metadata": {},
   "source": [
    " **Target T/F**"
   ]
  },
  {
   "cell_type": "code",
   "execution_count": 77,
   "metadata": {},
   "outputs": [
    {
     "data": {
      "text/plain": [
       "['../models/model_tf.joblib']"
      ]
     },
     "execution_count": 77,
     "metadata": {},
     "output_type": "execute_result"
    }
   ],
   "source": [
    "y = df['target_tf']\n",
    "\n",
    "classifier = LogisticRegression(class_weight='balanced', random_state=14, max_iter=50000)\n",
    "classifier.fit(X, y)\n",
    "\n",
    "dump(classifier, '../models/model_tf.joblib')    # We save the model"
   ]
  },
  {
   "cell_type": "markdown",
   "metadata": {},
   "source": [
    "**Target J/P**"
   ]
  },
  {
   "cell_type": "code",
   "execution_count": 78,
   "metadata": {},
   "outputs": [
    {
     "data": {
      "text/plain": [
       "['../models/model_jp.joblib']"
      ]
     },
     "execution_count": 78,
     "metadata": {},
     "output_type": "execute_result"
    }
   ],
   "source": [
    "y = df['target_jp']\n",
    "\n",
    "classifier = LogisticRegression(class_weight='balanced', random_state=14, max_iter=50000)\n",
    "classifier.fit(X, y)\n",
    "\n",
    "dump(classifier, '../models/model_jp.joblib')    # We save the model"
   ]
  },
  {
   "cell_type": "markdown",
   "metadata": {},
   "source": [
    "## Prediction"
   ]
  },
  {
   "cell_type": "code",
   "execution_count": 79,
   "metadata": {},
   "outputs": [
    {
     "name": "stdout",
     "output_type": "stream",
     "text": [
      "Vectorizer and Models loaded!\n"
     ]
    }
   ],
   "source": [
    "vect = load('../vectorizers/tfidf.joblib')\n",
    "clf_ie = load('../models/model_ie.joblib')\n",
    "clf_sn = load('../models/model_sn.joblib')\n",
    "clf_tf = load('../models/model_tf.joblib')\n",
    "clf_jp = load('../models/model_jp.joblib')\n",
    "print('Vectorizer and Models loaded!')"
   ]
  },
  {
   "cell_type": "code",
   "execution_count": 81,
   "metadata": {},
   "outputs": [],
   "source": [
    "test_string = ['what am I going to do during this lockdown maybe think about a new business']\n",
    "test_string_vect = vect.transform(test_string)"
   ]
  },
  {
   "cell_type": "code",
   "execution_count": 82,
   "metadata": {},
   "outputs": [],
   "source": [
    "result_ie = clf_ie.predict(test_string_vect)\n",
    "result_sn = clf_sn.predict(test_string_vect)\n",
    "result_tf = clf_tf.predict(test_string_vect)\n",
    "result_jp = clf_jp.predict(test_string_vect)"
   ]
  },
  {
   "cell_type": "code",
   "execution_count": 83,
   "metadata": {},
   "outputs": [
    {
     "name": "stdout",
     "output_type": "stream",
     "text": [
      "MBTI type: ISTP\n"
     ]
    }
   ],
   "source": [
    "print(f'MBTI type: {result_ie[0]}{result_sn[0]}{result_tf[0]}{result_jp[0]}')"
   ]
  },
  {
   "cell_type": "code",
   "execution_count": null,
   "metadata": {},
   "outputs": [],
   "source": []
  }
 ],
 "metadata": {
  "kernelspec": {
   "display_name": "Python 3",
   "language": "python",
   "name": "python3"
  },
  "language_info": {
   "codemirror_mode": {
    "name": "ipython",
    "version": 3
   },
   "file_extension": ".py",
   "mimetype": "text/x-python",
   "name": "python",
   "nbconvert_exporter": "python",
   "pygments_lexer": "ipython3",
   "version": "3.8.6"
  }
 },
 "nbformat": 4,
 "nbformat_minor": 4
}
