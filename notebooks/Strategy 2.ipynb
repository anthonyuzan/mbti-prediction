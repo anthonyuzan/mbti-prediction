{
 "cells": [
  {
   "cell_type": "markdown",
   "metadata": {},
   "source": [
    "# MBTI Prediction - Strategy 2\n",
    "In this notebook, we will train a classification model for each category and not only one to directly predict the full MBTI type."
   ]
  },
  {
   "cell_type": "markdown",
   "metadata": {},
   "source": [
    "## Libraries"
   ]
  },
  {
   "cell_type": "code",
   "execution_count": 18,
   "metadata": {},
   "outputs": [],
   "source": [
    "from itertools import islice \n",
    "from joblib import dump, load\n",
    "import matplotlib.pyplot as plt\n",
    "from nltk.corpus import stopwords\n",
    "from nltk.stem import PorterStemmer\n",
    "import pandas as pd\n",
    "import re\n",
    "from sklearn.feature_extraction.text import CountVectorizer\n",
    "from sklearn.feature_extraction.text import TfidfVectorizer\n",
    "from sklearn.linear_model import LogisticRegression\n",
    "from sklearn.metrics import classification_report\n",
    "from sklearn.model_selection import train_test_split\n",
    "from sklearn.svm import LinearSVC"
   ]
  },
  {
   "cell_type": "markdown",
   "metadata": {},
   "source": [
    "## Data import"
   ]
  },
  {
   "cell_type": "code",
   "execution_count": 2,
   "metadata": {},
   "outputs": [
    {
     "data": {
      "text/html": [
       "<div>\n",
       "<style scoped>\n",
       "    .dataframe tbody tr th:only-of-type {\n",
       "        vertical-align: middle;\n",
       "    }\n",
       "\n",
       "    .dataframe tbody tr th {\n",
       "        vertical-align: top;\n",
       "    }\n",
       "\n",
       "    .dataframe thead th {\n",
       "        text-align: right;\n",
       "    }\n",
       "</style>\n",
       "<table border=\"1\" class=\"dataframe\">\n",
       "  <thead>\n",
       "    <tr style=\"text-align: right;\">\n",
       "      <th></th>\n",
       "      <th>type</th>\n",
       "      <th>posts</th>\n",
       "    </tr>\n",
       "  </thead>\n",
       "  <tbody>\n",
       "    <tr>\n",
       "      <th>0</th>\n",
       "      <td>INFJ</td>\n",
       "      <td>'http://www.youtube.com/watch?v=qsXHcwe3krw|||...</td>\n",
       "    </tr>\n",
       "    <tr>\n",
       "      <th>1</th>\n",
       "      <td>ENTP</td>\n",
       "      <td>'I'm finding the lack of me in these posts ver...</td>\n",
       "    </tr>\n",
       "    <tr>\n",
       "      <th>2</th>\n",
       "      <td>INTP</td>\n",
       "      <td>'Good one  _____   https://www.youtube.com/wat...</td>\n",
       "    </tr>\n",
       "    <tr>\n",
       "      <th>3</th>\n",
       "      <td>INTJ</td>\n",
       "      <td>'Dear INTP,   I enjoyed our conversation the o...</td>\n",
       "    </tr>\n",
       "    <tr>\n",
       "      <th>4</th>\n",
       "      <td>ENTJ</td>\n",
       "      <td>'You're fired.|||That's another silly misconce...</td>\n",
       "    </tr>\n",
       "  </tbody>\n",
       "</table>\n",
       "</div>"
      ],
      "text/plain": [
       "   type                                              posts\n",
       "0  INFJ  'http://www.youtube.com/watch?v=qsXHcwe3krw|||...\n",
       "1  ENTP  'I'm finding the lack of me in these posts ver...\n",
       "2  INTP  'Good one  _____   https://www.youtube.com/wat...\n",
       "3  INTJ  'Dear INTP,   I enjoyed our conversation the o...\n",
       "4  ENTJ  'You're fired.|||That's another silly misconce..."
      ]
     },
     "execution_count": 2,
     "metadata": {},
     "output_type": "execute_result"
    }
   ],
   "source": [
    "df = pd.read_csv('../mbti_data.csv')\n",
    "df.head()"
   ]
  },
  {
   "cell_type": "code",
   "execution_count": 4,
   "metadata": {},
   "outputs": [
    {
     "data": {
      "text/plain": [
       "(8675, 2)"
      ]
     },
     "execution_count": 4,
     "metadata": {},
     "output_type": "execute_result"
    }
   ],
   "source": [
    "df.shape"
   ]
  },
  {
   "cell_type": "markdown",
   "metadata": {},
   "source": [
    "## Data preprocessing"
   ]
  },
  {
   "cell_type": "markdown",
   "metadata": {},
   "source": [
    "Split each line (~50 posts) into subline (5 posts)."
   ]
  },
  {
   "cell_type": "code",
   "execution_count": 9,
   "metadata": {},
   "outputs": [],
   "source": [
    "def dataframe_split(df, n=5):\n",
    "    df_r = pd.DataFrame(columns=['type','posts'])\n",
    "    for i in range(len(df)):\n",
    "        full_list = df.loc[i, 'posts'].split('|||')\n",
    "        sub_list = [full_list[i:i+n] for i in range(0, len(full_list),n)]\n",
    "        for j in sub_list:\n",
    "            df_r = df_r.append({'type': df.loc[i, 'type'], 'posts': ' '.join(j)}, ignore_index=True)\n",
    "    return df_r"
   ]
  },
  {
   "cell_type": "code",
   "execution_count": 10,
   "metadata": {},
   "outputs": [
    {
     "name": "stdout",
     "output_type": "stream",
     "text": [
      "Wall time: 3min 46s\n"
     ]
    }
   ],
   "source": [
    "%%time\n",
    "df = dataframe_split(df)"
   ]
  },
  {
   "cell_type": "code",
   "execution_count": 11,
   "metadata": {},
   "outputs": [
    {
     "data": {
      "text/plain": [
       "(85017, 2)"
      ]
     },
     "execution_count": 11,
     "metadata": {},
     "output_type": "execute_result"
    }
   ],
   "source": [
    "df.shape"
   ]
  },
  {
   "cell_type": "code",
   "execution_count": 12,
   "metadata": {},
   "outputs": [
    {
     "data": {
      "text/html": [
       "<div>\n",
       "<style scoped>\n",
       "    .dataframe tbody tr th:only-of-type {\n",
       "        vertical-align: middle;\n",
       "    }\n",
       "\n",
       "    .dataframe tbody tr th {\n",
       "        vertical-align: top;\n",
       "    }\n",
       "\n",
       "    .dataframe thead th {\n",
       "        text-align: right;\n",
       "    }\n",
       "</style>\n",
       "<table border=\"1\" class=\"dataframe\">\n",
       "  <thead>\n",
       "    <tr style=\"text-align: right;\">\n",
       "      <th></th>\n",
       "      <th>type</th>\n",
       "      <th>posts</th>\n",
       "    </tr>\n",
       "  </thead>\n",
       "  <tbody>\n",
       "    <tr>\n",
       "      <th>0</th>\n",
       "      <td>INFJ</td>\n",
       "      <td>'http://www.youtube.com/watch?v=qsXHcwe3krw ht...</td>\n",
       "    </tr>\n",
       "    <tr>\n",
       "      <th>1</th>\n",
       "      <td>INFJ</td>\n",
       "      <td>May the PerC Experience immerse you. The last ...</td>\n",
       "    </tr>\n",
       "    <tr>\n",
       "      <th>2</th>\n",
       "      <td>INFJ</td>\n",
       "      <td>http://playeressence.com/wp-content/uploads/20...</td>\n",
       "    </tr>\n",
       "    <tr>\n",
       "      <th>3</th>\n",
       "      <td>INFJ</td>\n",
       "      <td>https://www.youtube.com/watch?v=QyPqT8umzmY It...</td>\n",
       "    </tr>\n",
       "    <tr>\n",
       "      <th>4</th>\n",
       "      <td>INFJ</td>\n",
       "      <td>Yo entp ladies... if you're into a complimenta...</td>\n",
       "    </tr>\n",
       "  </tbody>\n",
       "</table>\n",
       "</div>"
      ],
      "text/plain": [
       "   type                                              posts\n",
       "0  INFJ  'http://www.youtube.com/watch?v=qsXHcwe3krw ht...\n",
       "1  INFJ  May the PerC Experience immerse you. The last ...\n",
       "2  INFJ  http://playeressence.com/wp-content/uploads/20...\n",
       "3  INFJ  https://www.youtube.com/watch?v=QyPqT8umzmY It...\n",
       "4  INFJ  Yo entp ladies... if you're into a complimenta..."
      ]
     },
     "execution_count": 12,
     "metadata": {},
     "output_type": "execute_result"
    }
   ],
   "source": [
    "df.head()"
   ]
  },
  {
   "cell_type": "markdown",
   "metadata": {},
   "source": [
    "First, we prepare our targets. We will have one classifier to predict the \"target_ie\" value, one for \"target_sn\", one for \"target_tf\" and one for \"target_jp\"."
   ]
  },
  {
   "cell_type": "code",
   "execution_count": 13,
   "metadata": {},
   "outputs": [
    {
     "data": {
      "text/html": [
       "<div>\n",
       "<style scoped>\n",
       "    .dataframe tbody tr th:only-of-type {\n",
       "        vertical-align: middle;\n",
       "    }\n",
       "\n",
       "    .dataframe tbody tr th {\n",
       "        vertical-align: top;\n",
       "    }\n",
       "\n",
       "    .dataframe thead th {\n",
       "        text-align: right;\n",
       "    }\n",
       "</style>\n",
       "<table border=\"1\" class=\"dataframe\">\n",
       "  <thead>\n",
       "    <tr style=\"text-align: right;\">\n",
       "      <th></th>\n",
       "      <th>type</th>\n",
       "      <th>posts</th>\n",
       "      <th>target_ie</th>\n",
       "      <th>target_sn</th>\n",
       "      <th>target_tf</th>\n",
       "      <th>target_jp</th>\n",
       "    </tr>\n",
       "  </thead>\n",
       "  <tbody>\n",
       "    <tr>\n",
       "      <th>0</th>\n",
       "      <td>INFJ</td>\n",
       "      <td>'http://www.youtube.com/watch?v=qsXHcwe3krw ht...</td>\n",
       "      <td>I</td>\n",
       "      <td>N</td>\n",
       "      <td>F</td>\n",
       "      <td>J</td>\n",
       "    </tr>\n",
       "    <tr>\n",
       "      <th>1</th>\n",
       "      <td>INFJ</td>\n",
       "      <td>May the PerC Experience immerse you. The last ...</td>\n",
       "      <td>I</td>\n",
       "      <td>N</td>\n",
       "      <td>F</td>\n",
       "      <td>J</td>\n",
       "    </tr>\n",
       "    <tr>\n",
       "      <th>2</th>\n",
       "      <td>INFJ</td>\n",
       "      <td>http://playeressence.com/wp-content/uploads/20...</td>\n",
       "      <td>I</td>\n",
       "      <td>N</td>\n",
       "      <td>F</td>\n",
       "      <td>J</td>\n",
       "    </tr>\n",
       "    <tr>\n",
       "      <th>3</th>\n",
       "      <td>INFJ</td>\n",
       "      <td>https://www.youtube.com/watch?v=QyPqT8umzmY It...</td>\n",
       "      <td>I</td>\n",
       "      <td>N</td>\n",
       "      <td>F</td>\n",
       "      <td>J</td>\n",
       "    </tr>\n",
       "    <tr>\n",
       "      <th>4</th>\n",
       "      <td>INFJ</td>\n",
       "      <td>Yo entp ladies... if you're into a complimenta...</td>\n",
       "      <td>I</td>\n",
       "      <td>N</td>\n",
       "      <td>F</td>\n",
       "      <td>J</td>\n",
       "    </tr>\n",
       "  </tbody>\n",
       "</table>\n",
       "</div>"
      ],
      "text/plain": [
       "   type                                              posts target_ie  \\\n",
       "0  INFJ  'http://www.youtube.com/watch?v=qsXHcwe3krw ht...         I   \n",
       "1  INFJ  May the PerC Experience immerse you. The last ...         I   \n",
       "2  INFJ  http://playeressence.com/wp-content/uploads/20...         I   \n",
       "3  INFJ  https://www.youtube.com/watch?v=QyPqT8umzmY It...         I   \n",
       "4  INFJ  Yo entp ladies... if you're into a complimenta...         I   \n",
       "\n",
       "  target_sn target_tf target_jp  \n",
       "0         N         F         J  \n",
       "1         N         F         J  \n",
       "2         N         F         J  \n",
       "3         N         F         J  \n",
       "4         N         F         J  "
      ]
     },
     "execution_count": 13,
     "metadata": {},
     "output_type": "execute_result"
    }
   ],
   "source": [
    "df['target_ie'] = df['type'].apply(lambda row: row[0])\n",
    "df['target_sn'] = df['type'].apply(lambda row: row[1])\n",
    "df['target_tf'] = df['type'].apply(lambda row: row[2])\n",
    "df['target_jp'] = df['type'].apply(lambda row: row[3])\n",
    "df.head()"
   ]
  },
  {
   "cell_type": "markdown",
   "metadata": {},
   "source": [
    "Let's see the distribition of the new variables created."
   ]
  },
  {
   "cell_type": "code",
   "execution_count": 14,
   "metadata": {},
   "outputs": [
    {
     "data": {
      "image/png": "[encoded data removed]",
      "text/plain": [
       "<Figure size 576x576 with 4 Axes>"
      ]
     },
     "metadata": {},
     "output_type": "display_data"
    }
   ],
   "source": [
    "ie_dist = df['target_ie'].value_counts().rename_axis('types').reset_index(name='counts')\n",
    "sn_dist = df['target_sn'].value_counts().rename_axis('types').reset_index(name='counts')\n",
    "tf_dist = df['target_tf'].value_counts().rename_axis('types').reset_index(name='counts')\n",
    "jp_dist = df['target_jp'].value_counts().rename_axis('types').reset_index(name='counts')\n",
    "\n",
    "fig, axs = plt.subplots(2, 2, figsize=(8,8))\n",
    "axs[0, 0].pie(ie_dist['counts'], labels=ie_dist['types'], autopct='%1.1f%%')\n",
    "axs[0, 0].set_title('Distribution I/E')\n",
    "axs[0, 1].pie(sn_dist['counts'], labels=sn_dist['types'], autopct='%1.1f%%')\n",
    "axs[0, 1].set_title('Distribution S/N')\n",
    "axs[1, 0].pie(tf_dist['counts'], labels=tf_dist['types'], autopct='%1.1f%%')\n",
    "axs[1, 0].set_title('Distribution T/F')\n",
    "axs[1, 1].pie(jp_dist['counts'], labels=jp_dist['types'], autopct='%1.1f%%')\n",
    "axs[1, 1].set_title('Distribution J/P')\n",
    "plt.show()"
   ]
  },
  {
   "cell_type": "markdown",
   "metadata": {},
   "source": [
    "F1-score"
   ]
  },
  {
   "cell_type": "markdown",
   "metadata": {},
   "source": [
    "Let's preprocess the data."
   ]
  },
  {
   "cell_type": "code",
   "execution_count": 15,
   "metadata": {},
   "outputs": [],
   "source": [
    "stop_words = set(stopwords.words('english'))\n",
    "porter_stemmer = PorterStemmer()\n",
    "\n",
    "def preprocessing(text, stemming_on=False, stop_words=stop_words, porter_stemmer=porter_stemmer):\n",
    "    text = text.lower()                                          # Lowercase\n",
    "    text = re.sub(r'[^a-zA-Z0-9\\s]', ' ', text)                  # Noise removal (regex to remove punctuations)\n",
    "    text = text.strip()                                          # Noise removal (extra spaces)\n",
    "    words = text.split()                                         # Split sentence into list of words\n",
    "    words = [w for w in words if not w in stop_words]            # Stopwords removal\n",
    "    if(stemming_on):\n",
    "        words = [porter_stemmer.stem(word) for word in words]    # Replace the word by its stem\n",
    "    text = ' '.join(words)                                       # Transform list of words to str\n",
    "    return text"
   ]
  },
  {
   "cell_type": "code",
   "execution_count": 16,
   "metadata": {},
   "outputs": [
    {
     "name": "stdout",
     "output_type": "stream",
     "text": [
      "Wall time: 1min 48s\n"
     ]
    }
   ],
   "source": [
    "%%time\n",
    "df['posts_preproc'] = df['posts'].apply(lambda row: preprocessing(row, stemming_on=True))"
   ]
  },
  {
   "cell_type": "code",
   "execution_count": 17,
   "metadata": {},
   "outputs": [
    {
     "data": {
      "text/html": [
       "<div>\n",
       "<style scoped>\n",
       "    .dataframe tbody tr th:only-of-type {\n",
       "        vertical-align: middle;\n",
       "    }\n",
       "\n",
       "    .dataframe tbody tr th {\n",
       "        vertical-align: top;\n",
       "    }\n",
       "\n",
       "    .dataframe thead th {\n",
       "        text-align: right;\n",
       "    }\n",
       "</style>\n",
       "<table border=\"1\" class=\"dataframe\">\n",
       "  <thead>\n",
       "    <tr style=\"text-align: right;\">\n",
       "      <th></th>\n",
       "      <th>type</th>\n",
       "      <th>posts</th>\n",
       "      <th>target_ie</th>\n",
       "      <th>target_sn</th>\n",
       "      <th>target_tf</th>\n",
       "      <th>target_jp</th>\n",
       "      <th>posts_preproc</th>\n",
       "    </tr>\n",
       "  </thead>\n",
       "  <tbody>\n",
       "    <tr>\n",
       "      <th>0</th>\n",
       "      <td>INFJ</td>\n",
       "      <td>'http://www.youtube.com/watch?v=qsXHcwe3krw ht...</td>\n",
       "      <td>I</td>\n",
       "      <td>N</td>\n",
       "      <td>F</td>\n",
       "      <td>J</td>\n",
       "      <td>http www youtub com watch v qsxhcwe3krw http 4...</td>\n",
       "    </tr>\n",
       "    <tr>\n",
       "      <th>1</th>\n",
       "      <td>INFJ</td>\n",
       "      <td>May the PerC Experience immerse you. The last ...</td>\n",
       "      <td>I</td>\n",
       "      <td>N</td>\n",
       "      <td>F</td>\n",
       "      <td>J</td>\n",
       "      <td>may perc experi immers last thing infj friend ...</td>\n",
       "    </tr>\n",
       "    <tr>\n",
       "      <th>2</th>\n",
       "      <td>INFJ</td>\n",
       "      <td>http://playeressence.com/wp-content/uploads/20...</td>\n",
       "      <td>I</td>\n",
       "      <td>N</td>\n",
       "      <td>F</td>\n",
       "      <td>J</td>\n",
       "      <td>http playeress com wp content upload 2013 08 r...</td>\n",
       "    </tr>\n",
       "    <tr>\n",
       "      <th>3</th>\n",
       "      <td>INFJ</td>\n",
       "      <td>https://www.youtube.com/watch?v=QyPqT8umzmY It...</td>\n",
       "      <td>I</td>\n",
       "      <td>N</td>\n",
       "      <td>F</td>\n",
       "      <td>J</td>\n",
       "      <td>http www youtub com watch v qypqt8umzmi appear...</td>\n",
       "    </tr>\n",
       "    <tr>\n",
       "      <th>4</th>\n",
       "      <td>INFJ</td>\n",
       "      <td>Yo entp ladies... if you're into a complimenta...</td>\n",
       "      <td>I</td>\n",
       "      <td>N</td>\n",
       "      <td>F</td>\n",
       "      <td>J</td>\n",
       "      <td>yo entp ladi complimentari person well hey mai...</td>\n",
       "    </tr>\n",
       "  </tbody>\n",
       "</table>\n",
       "</div>"
      ],
      "text/plain": [
       "   type                                              posts target_ie  \\\n",
       "0  INFJ  'http://www.youtube.com/watch?v=qsXHcwe3krw ht...         I   \n",
       "1  INFJ  May the PerC Experience immerse you. The last ...         I   \n",
       "2  INFJ  http://playeressence.com/wp-content/uploads/20...         I   \n",
       "3  INFJ  https://www.youtube.com/watch?v=QyPqT8umzmY It...         I   \n",
       "4  INFJ  Yo entp ladies... if you're into a complimenta...         I   \n",
       "\n",
       "  target_sn target_tf target_jp  \\\n",
       "0         N         F         J   \n",
       "1         N         F         J   \n",
       "2         N         F         J   \n",
       "3         N         F         J   \n",
       "4         N         F         J   \n",
       "\n",
       "                                       posts_preproc  \n",
       "0  http www youtub com watch v qsxhcwe3krw http 4...  \n",
       "1  may perc experi immers last thing infj friend ...  \n",
       "2  http playeress com wp content upload 2013 08 r...  \n",
       "3  http www youtub com watch v qypqt8umzmi appear...  \n",
       "4  yo entp ladi complimentari person well hey mai...  "
      ]
     },
     "execution_count": 17,
     "metadata": {},
     "output_type": "execute_result"
    }
   ],
   "source": [
    "df.head()"
   ]
  },
  {
   "cell_type": "markdown",
   "metadata": {},
   "source": [
    "## Vectorization"
   ]
  },
  {
   "cell_type": "code",
   "execution_count": 24,
   "metadata": {},
   "outputs": [],
   "source": [
    "c_vectorizer = CountVectorizer()\n",
    "ti_vectorizer = TfidfVectorizer()"
   ]
  },
  {
   "cell_type": "code",
   "execution_count": 25,
   "metadata": {},
   "outputs": [],
   "source": [
    "c_X = c_vectorizer.fit_transform(df['posts_preproc'])\n",
    "ti_X = ti_vectorizer.fit_transform(df['posts_preproc'])"
   ]
  },
  {
   "cell_type": "markdown",
   "metadata": {},
   "source": [
    "## Analysis - Best configuration"
   ]
  },
  {
   "cell_type": "code",
   "execution_count": 74,
   "metadata": {},
   "outputs": [],
   "source": [
    "config = {\n",
    "    'data_vect': {\n",
    "        'CountVectorizer': c_X,\n",
    "        'TfidfVectorizer': ti_X\n",
    "    },\n",
    "    'classifier': {\n",
    "        'LinearSVC': LinearSVC(class_weight='balanced', random_state=14, max_iter=50000), \n",
    "        'LogisticRegression': LogisticRegression(class_weight='balanced', random_state=14, max_iter=50000)\n",
    "    }\n",
    "}"
   ]
  },
  {
   "cell_type": "code",
   "execution_count": 75,
   "metadata": {},
   "outputs": [],
   "source": [
    "def training_analysis(df, config, target):\n",
    "    for vectorizer in config['data_vect']:\n",
    "        X_train, X_test, y_train, y_test = train_test_split(config['data_vect'][vectorizer], df[target], test_size=0.2, random_state=14)\n",
    "        for classifier in config['classifier']:\n",
    "            config['classifier'][classifier].fit(X_train, y_train)\n",
    "            print(f'{vectorizer} | {classifier}:')\n",
    "            print(f'____________________________\\n')\n",
    "            y_pred = config['classifier'][classifier].predict(X_test)\n",
    "            print(f'{classification_report(y_test, y_pred)}\\n')\n",
    "            print(f'------------------------------------------------------------------------\\n')"
   ]
  },
  {
   "cell_type": "markdown",
   "metadata": {},
   "source": [
    " ### Target I/E"
   ]
  },
  {
   "cell_type": "code",
   "execution_count": 76,
   "metadata": {},
   "outputs": [
    {
     "name": "stdout",
     "output_type": "stream",
     "text": [
      "CountVectorizer | LinearSVC:\n",
      "____________________________\n",
      "\n",
      "              precision    recall  f1-score   support\n",
      "\n",
      "           E       0.37      0.45      0.40      3893\n",
      "           I       0.82      0.77      0.80     13111\n",
      "\n",
      "    accuracy                           0.70     17004\n",
      "   macro avg       0.60      0.61      0.60     17004\n",
      "weighted avg       0.72      0.70      0.71     17004\n",
      "\n",
      "\n",
      "------------------------------------------------------------------------\n",
      "\n",
      "CountVectorizer | LogisticRegression:\n",
      "____________________________\n",
      "\n",
      "              precision    recall  f1-score   support\n",
      "\n",
      "           E       0.40      0.52      0.45      3893\n",
      "           I       0.84      0.77      0.81     13111\n",
      "\n",
      "    accuracy                           0.71     17004\n",
      "   macro avg       0.62      0.64      0.63     17004\n",
      "weighted avg       0.74      0.71      0.73     17004\n",
      "\n",
      "\n",
      "------------------------------------------------------------------------\n",
      "\n",
      "TfidfVectorizer | LinearSVC:\n",
      "____________________________\n",
      "\n",
      "              precision    recall  f1-score   support\n",
      "\n",
      "           E       0.41      0.53      0.46      3893\n",
      "           I       0.85      0.78      0.81     13111\n",
      "\n",
      "    accuracy                           0.72     17004\n",
      "   macro avg       0.63      0.65      0.64     17004\n",
      "weighted avg       0.75      0.72      0.73     17004\n",
      "\n",
      "\n",
      "------------------------------------------------------------------------\n",
      "\n",
      "TfidfVectorizer | LogisticRegression:\n",
      "____________________________\n",
      "\n",
      "              precision    recall  f1-score   support\n",
      "\n",
      "           E       0.42      0.58      0.48      3893\n",
      "           I       0.86      0.76      0.81     13111\n",
      "\n",
      "    accuracy                           0.72     17004\n",
      "   macro avg       0.64      0.67      0.65     17004\n",
      "weighted avg       0.76      0.72      0.73     17004\n",
      "\n",
      "\n",
      "------------------------------------------------------------------------\n",
      "\n"
     ]
    }
   ],
   "source": [
    "training_analysis(df, config, 'target_ie')"
   ]
  },
  {
   "cell_type": "markdown",
   "metadata": {},
   "source": [
    "### Target S/N"
   ]
  },
  {
   "cell_type": "code",
   "execution_count": 77,
   "metadata": {},
   "outputs": [
    {
     "name": "stdout",
     "output_type": "stream",
     "text": [
      "CountVectorizer | LinearSVC:\n",
      "____________________________\n",
      "\n",
      "              precision    recall  f1-score   support\n",
      "\n",
      "           N       0.89      0.84      0.87     14612\n",
      "           S       0.28      0.37      0.32      2392\n",
      "\n",
      "    accuracy                           0.78     17004\n",
      "   macro avg       0.59      0.61      0.59     17004\n",
      "weighted avg       0.81      0.78      0.79     17004\n",
      "\n",
      "\n",
      "------------------------------------------------------------------------\n",
      "\n",
      "CountVectorizer | LogisticRegression:\n",
      "____________________________\n",
      "\n",
      "              precision    recall  f1-score   support\n",
      "\n",
      "           N       0.90      0.83      0.86     14612\n",
      "           S       0.30      0.46      0.36      2392\n",
      "\n",
      "    accuracy                           0.77     17004\n",
      "   macro avg       0.60      0.64      0.61     17004\n",
      "weighted avg       0.82      0.77      0.79     17004\n",
      "\n",
      "\n",
      "------------------------------------------------------------------------\n",
      "\n",
      "TfidfVectorizer | LinearSVC:\n",
      "____________________________\n",
      "\n",
      "              precision    recall  f1-score   support\n",
      "\n",
      "           N       0.91      0.83      0.87     14612\n",
      "           S       0.31      0.47      0.37      2392\n",
      "\n",
      "    accuracy                           0.78     17004\n",
      "   macro avg       0.61      0.65      0.62     17004\n",
      "weighted avg       0.82      0.78      0.80     17004\n",
      "\n",
      "\n",
      "------------------------------------------------------------------------\n",
      "\n",
      "TfidfVectorizer | LogisticRegression:\n",
      "____________________________\n",
      "\n",
      "              precision    recall  f1-score   support\n",
      "\n",
      "           N       0.92      0.79      0.85     14612\n",
      "           S       0.31      0.57      0.40      2392\n",
      "\n",
      "    accuracy                           0.76     17004\n",
      "   macro avg       0.61      0.68      0.62     17004\n",
      "weighted avg       0.83      0.76      0.78     17004\n",
      "\n",
      "\n",
      "------------------------------------------------------------------------\n",
      "\n"
     ]
    }
   ],
   "source": [
    "training_analysis(df, config, 'target_sn')"
   ]
  },
  {
   "cell_type": "markdown",
   "metadata": {},
   "source": [
    "### Target T/F"
   ]
  },
  {
   "cell_type": "code",
   "execution_count": 78,
   "metadata": {},
   "outputs": [
    {
     "name": "stdout",
     "output_type": "stream",
     "text": [
      "CountVectorizer | LinearSVC:\n",
      "____________________________\n",
      "\n",
      "              precision    recall  f1-score   support\n",
      "\n",
      "           F       0.70      0.68      0.69      9226\n",
      "           T       0.63      0.65      0.64      7778\n",
      "\n",
      "    accuracy                           0.67     17004\n",
      "   macro avg       0.66      0.66      0.66     17004\n",
      "weighted avg       0.67      0.67      0.67     17004\n",
      "\n",
      "\n",
      "------------------------------------------------------------------------\n",
      "\n",
      "CountVectorizer | LogisticRegression:\n",
      "____________________________\n",
      "\n",
      "              precision    recall  f1-score   support\n",
      "\n",
      "           F       0.73      0.71      0.72      9226\n",
      "           T       0.67      0.69      0.68      7778\n",
      "\n",
      "    accuracy                           0.70     17004\n",
      "   macro avg       0.70      0.70      0.70     17004\n",
      "weighted avg       0.70      0.70      0.70     17004\n",
      "\n",
      "\n",
      "------------------------------------------------------------------------\n",
      "\n",
      "TfidfVectorizer | LinearSVC:\n",
      "____________________________\n",
      "\n",
      "              precision    recall  f1-score   support\n",
      "\n",
      "           F       0.74      0.71      0.73      9226\n",
      "           T       0.67      0.70      0.69      7778\n",
      "\n",
      "    accuracy                           0.71     17004\n",
      "   macro avg       0.71      0.71      0.71     17004\n",
      "weighted avg       0.71      0.71      0.71     17004\n",
      "\n",
      "\n",
      "------------------------------------------------------------------------\n",
      "\n",
      "TfidfVectorizer | LogisticRegression:\n",
      "____________________________\n",
      "\n",
      "              precision    recall  f1-score   support\n",
      "\n",
      "           F       0.76      0.73      0.75      9226\n",
      "           T       0.69      0.73      0.71      7778\n",
      "\n",
      "    accuracy                           0.73     17004\n",
      "   macro avg       0.73      0.73      0.73     17004\n",
      "weighted avg       0.73      0.73      0.73     17004\n",
      "\n",
      "\n",
      "------------------------------------------------------------------------\n",
      "\n"
     ]
    }
   ],
   "source": [
    "training_analysis(df, config, 'target_tf')"
   ]
  },
  {
   "cell_type": "markdown",
   "metadata": {},
   "source": [
    "### Target J/P"
   ]
  },
  {
   "cell_type": "code",
   "execution_count": 79,
   "metadata": {},
   "outputs": [
    {
     "name": "stdout",
     "output_type": "stream",
     "text": [
      "CountVectorizer | LinearSVC:\n",
      "____________________________\n",
      "\n",
      "              precision    recall  f1-score   support\n",
      "\n",
      "           J       0.52      0.55      0.53      6746\n",
      "           P       0.69      0.66      0.68     10258\n",
      "\n",
      "    accuracy                           0.62     17004\n",
      "   macro avg       0.60      0.61      0.60     17004\n",
      "weighted avg       0.62      0.62      0.62     17004\n",
      "\n",
      "\n",
      "------------------------------------------------------------------------\n",
      "\n",
      "CountVectorizer | LogisticRegression:\n",
      "____________________________\n",
      "\n",
      "              precision    recall  f1-score   support\n",
      "\n",
      "           J       0.55      0.59      0.57      6746\n",
      "           P       0.72      0.68      0.70     10258\n",
      "\n",
      "    accuracy                           0.65     17004\n",
      "   macro avg       0.63      0.64      0.63     17004\n",
      "weighted avg       0.65      0.65      0.65     17004\n",
      "\n",
      "\n",
      "------------------------------------------------------------------------\n",
      "\n",
      "TfidfVectorizer | LinearSVC:\n",
      "____________________________\n",
      "\n",
      "              precision    recall  f1-score   support\n",
      "\n",
      "           J       0.56      0.60      0.58      6746\n",
      "           P       0.72      0.69      0.70     10258\n",
      "\n",
      "    accuracy                           0.65     17004\n",
      "   macro avg       0.64      0.64      0.64     17004\n",
      "weighted avg       0.66      0.65      0.65     17004\n",
      "\n",
      "\n",
      "------------------------------------------------------------------------\n",
      "\n",
      "TfidfVectorizer | LogisticRegression:\n",
      "____________________________\n",
      "\n",
      "              precision    recall  f1-score   support\n",
      "\n",
      "           J       0.57      0.62      0.60      6746\n",
      "           P       0.74      0.70      0.72     10258\n",
      "\n",
      "    accuracy                           0.67     17004\n",
      "   macro avg       0.66      0.66      0.66     17004\n",
      "weighted avg       0.67      0.67      0.67     17004\n",
      "\n",
      "\n",
      "------------------------------------------------------------------------\n",
      "\n"
     ]
    }
   ],
   "source": [
    "training_analysis(df, config, 'target_jp')"
   ]
  },
  {
   "cell_type": "markdown",
   "metadata": {},
   "source": [
    "## Training"
   ]
  },
  {
   "cell_type": "markdown",
   "metadata": {},
   "source": [
    "### Target I/E"
   ]
  },
  {
   "cell_type": "code",
   "execution_count": null,
   "metadata": {},
   "outputs": [],
   "source": [
    "c_X_train, c_X_test, c_y_train, c_y_test = train_test_split(c_X, df['target_ie'], test_size=0.2, random_state=14)\n",
    "ti_X_train, ti_X_test, ti_y_train, ti_y_test = train_test_split(ti_X, df['target_ie'], test_size=0.2, random_state=14)"
   ]
  },
  {
   "cell_type": "code",
   "execution_count": null,
   "metadata": {},
   "outputs": [],
   "source": [
    "c_clf = LinearSVC(max_iter=1000, random_state=14)\n",
    "c_clf.fit(c_X_train, c_y_train)\n",
    "c_y_pred = c_clf.predict(c_X_test)\n",
    "print(classification_report(c_y_test, c_y_pred))"
   ]
  },
  {
   "cell_type": "code",
   "execution_count": null,
   "metadata": {},
   "outputs": [],
   "source": [
    "dump(ti_clf, '../models/model_ie.joblib') "
   ]
  },
  {
   "cell_type": "markdown",
   "metadata": {},
   "source": [
    " ### Target S/N"
   ]
  },
  {
   "cell_type": "code",
   "execution_count": null,
   "metadata": {},
   "outputs": [],
   "source": [
    "c_X_train, c_X_test, c_y_train, c_y_test = train_test_split(c_X, df['target_sn'], test_size=0.2, random_state=14)\n",
    "ti_X_train, ti_X_test, ti_y_train, ti_y_test = train_test_split(ti_X, df['target_sn'], test_size=0.2, random_state=14)"
   ]
  },
  {
   "cell_type": "code",
   "execution_count": null,
   "metadata": {},
   "outputs": [],
   "source": [
    "c_clf = LinearSVC(max_iter=1000, random_state=14)\n",
    "c_clf.fit(c_X_train, c_y_train)\n",
    "c_y_pred = c_clf.predict(c_X_test)\n",
    "print(classification_report(c_y_test, c_y_pred))"
   ]
  },
  {
   "cell_type": "code",
   "execution_count": null,
   "metadata": {},
   "outputs": [],
   "source": [
    "dump(ti_clf, '../models/model_sn.joblib') "
   ]
  },
  {
   "cell_type": "markdown",
   "metadata": {},
   "source": [
    " ### Target T/F"
   ]
  },
  {
   "cell_type": "code",
   "execution_count": null,
   "metadata": {},
   "outputs": [],
   "source": [
    "c_X_train, c_X_test, c_y_train, c_y_test = train_test_split(c_X, df['target_tf'], test_size=0.2, random_state=14)\n",
    "ti_X_train, ti_X_test, ti_y_train, ti_y_test = train_test_split(ti_X, df['target_tf'], test_size=0.2, random_state=14)"
   ]
  },
  {
   "cell_type": "code",
   "execution_count": null,
   "metadata": {},
   "outputs": [],
   "source": [
    "c_clf = LinearSVC(max_iter=1000, random_state=14)\n",
    "c_clf.fit(c_X_train, c_y_train)\n",
    "c_y_pred = c_clf.predict(c_X_test)\n",
    "print(classification_report(c_y_test, c_y_pred))"
   ]
  },
  {
   "cell_type": "code",
   "execution_count": null,
   "metadata": {},
   "outputs": [],
   "source": [
    "dump(ti_clf, '../models/model_tf.joblib') "
   ]
  },
  {
   "cell_type": "markdown",
   "metadata": {},
   "source": [
    " ### Target J/P"
   ]
  },
  {
   "cell_type": "code",
   "execution_count": null,
   "metadata": {},
   "outputs": [],
   "source": [
    "c_X_train, c_X_test, c_y_train, c_y_test = train_test_split(c_X, df['target_jp'], test_size=0.2, random_state=14)\n",
    "ti_X_train, ti_X_test, ti_y_train, ti_y_test = train_test_split(ti_X, df['target_jp'], test_size=0.2, random_state=14)"
   ]
  },
  {
   "cell_type": "code",
   "execution_count": null,
   "metadata": {},
   "outputs": [],
   "source": [
    "c_clf = LinearSVC(max_iter=1000, random_state=14)\n",
    "c_clf.fit(c_X_train, c_y_train)\n",
    "c_y_pred = c_clf.predict(c_X_test)\n",
    "print(classification_report(c_y_test, c_y_pred))"
   ]
  },
  {
   "cell_type": "code",
   "execution_count": null,
   "metadata": {},
   "outputs": [],
   "source": [
    "dump(ti_clf, '../models/model_jp.joblib') "
   ]
  },
  {
   "cell_type": "markdown",
   "metadata": {},
   "source": [
    "## Prediction"
   ]
  },
  {
   "cell_type": "code",
   "execution_count": null,
   "metadata": {},
   "outputs": [],
   "source": [
    "clf_ie = load('../models/model_ie.joblib')\n",
    "clf_sn = load('../models/model_sn.joblib')\n",
    "clf_tf = load('../models/model_tf.joblib')\n",
    "clf_jp = load('../models/model_jp.joblib')\n",
    "print('Models loaded!')"
   ]
  },
  {
   "cell_type": "code",
   "execution_count": null,
   "metadata": {},
   "outputs": [],
   "source": [
    "test_string = ['what am I going to do during this lockdown maybe think about a new business']\n",
    "test_string_vect = ti_vectorizer.transform(test_string)\n",
    "print(test_string_vect)"
   ]
  },
  {
   "cell_type": "code",
   "execution_count": null,
   "metadata": {},
   "outputs": [],
   "source": [
    "result_ie = clf_ie.predict(test_string_vect)\n",
    "result_sn = clf_sn.predict(test_string_vect)\n",
    "result_tf = clf_tf.predict(test_string_vect)\n",
    "result_jp = clf_jp.predict(test_string_vect)"
   ]
  },
  {
   "cell_type": "code",
   "execution_count": null,
   "metadata": {},
   "outputs": [],
   "source": [
    "print(f'MBTI type: {result_ie[0]}{result_sn[0]}{result_tf[0]}{result_jp[0]}')"
   ]
  },
  {
   "cell_type": "code",
   "execution_count": null,
   "metadata": {},
   "outputs": [],
   "source": []
  }
 ],
 "metadata": {
  "kernelspec": {
   "display_name": "Python 3",
   "language": "python",
   "name": "python3"
  },
  "language_info": {
   "codemirror_mode": {
    "name": "ipython",
    "version": 3
   },
   "file_extension": ".py",
   "mimetype": "text/x-python",
   "name": "python",
   "nbconvert_exporter": "python",
   "pygments_lexer": "ipython3",
   "version": "3.8.6"
  }
 },
 "nbformat": 4,
 "nbformat_minor": 4
}
